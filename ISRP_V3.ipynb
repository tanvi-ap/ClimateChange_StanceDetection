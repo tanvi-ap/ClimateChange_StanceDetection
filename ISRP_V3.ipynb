{
  "nbformat": 4,
  "nbformat_minor": 0,
  "metadata": {
    "colab": {
      "name": "ISRP_V3.ipynb",
      "provenance": [],
      "collapsed_sections": []
    },
    "kernelspec": {
      "name": "python3",
      "display_name": "Python 3"
    },
    "language_info": {
      "name": "python"
    },
    "accelerator": "GPU"
  },
  "cells": [
    {
      "cell_type": "code",
      "source": [
        "!pip install lime"
      ],
      "metadata": {
        "colab": {
          "base_uri": "https://localhost:8080/"
        },
        "id": "1VbVIeSqN5Gi",
        "outputId": "527492ea-9a62-4c69-954a-7b5904ab1d2b"
      },
      "execution_count": 12,
      "outputs": [
        {
          "output_type": "stream",
          "name": "stdout",
          "text": [
            "Collecting lime\n",
            "  Downloading lime-0.2.0.1.tar.gz (275 kB)\n",
            "\u001b[K     |████████████████████████████████| 275 kB 2.0 MB/s \n",
            "\u001b[?25hRequirement already satisfied: matplotlib in /usr/local/lib/python3.7/dist-packages (from lime) (3.2.2)\n",
            "Requirement already satisfied: numpy in /usr/local/lib/python3.7/dist-packages (from lime) (1.19.5)\n",
            "Requirement already satisfied: scipy in /usr/local/lib/python3.7/dist-packages (from lime) (1.4.1)\n",
            "Requirement already satisfied: tqdm in /usr/local/lib/python3.7/dist-packages (from lime) (4.62.3)\n",
            "Requirement already satisfied: scikit-learn>=0.18 in /usr/local/lib/python3.7/dist-packages (from lime) (1.0.1)\n",
            "Requirement already satisfied: scikit-image>=0.12 in /usr/local/lib/python3.7/dist-packages (from lime) (0.18.3)\n",
            "Requirement already satisfied: PyWavelets>=1.1.1 in /usr/local/lib/python3.7/dist-packages (from scikit-image>=0.12->lime) (1.2.0)\n",
            "Requirement already satisfied: networkx>=2.0 in /usr/local/lib/python3.7/dist-packages (from scikit-image>=0.12->lime) (2.6.3)\n",
            "Requirement already satisfied: imageio>=2.3.0 in /usr/local/lib/python3.7/dist-packages (from scikit-image>=0.12->lime) (2.4.1)\n",
            "Requirement already satisfied: tifffile>=2019.7.26 in /usr/local/lib/python3.7/dist-packages (from scikit-image>=0.12->lime) (2021.11.2)\n",
            "Requirement already satisfied: pillow!=7.1.0,!=7.1.1,>=4.3.0 in /usr/local/lib/python3.7/dist-packages (from scikit-image>=0.12->lime) (7.1.2)\n",
            "Requirement already satisfied: python-dateutil>=2.1 in /usr/local/lib/python3.7/dist-packages (from matplotlib->lime) (2.8.2)\n",
            "Requirement already satisfied: pyparsing!=2.0.4,!=2.1.2,!=2.1.6,>=2.0.1 in /usr/local/lib/python3.7/dist-packages (from matplotlib->lime) (3.0.6)\n",
            "Requirement already satisfied: cycler>=0.10 in /usr/local/lib/python3.7/dist-packages (from matplotlib->lime) (0.11.0)\n",
            "Requirement already satisfied: kiwisolver>=1.0.1 in /usr/local/lib/python3.7/dist-packages (from matplotlib->lime) (1.3.2)\n",
            "Requirement already satisfied: six>=1.5 in /usr/local/lib/python3.7/dist-packages (from python-dateutil>=2.1->matplotlib->lime) (1.15.0)\n",
            "Requirement already satisfied: joblib>=0.11 in /usr/local/lib/python3.7/dist-packages (from scikit-learn>=0.18->lime) (1.1.0)\n",
            "Requirement already satisfied: threadpoolctl>=2.0.0 in /usr/local/lib/python3.7/dist-packages (from scikit-learn>=0.18->lime) (3.0.0)\n",
            "Building wheels for collected packages: lime\n",
            "  Building wheel for lime (setup.py) ... \u001b[?25l\u001b[?25hdone\n",
            "  Created wheel for lime: filename=lime-0.2.0.1-py3-none-any.whl size=283857 sha256=d4662064b634fc10d839d1e7c74027cf12d90709774d1a2d711dafbe8278d4d4\n",
            "  Stored in directory: /root/.cache/pip/wheels/ca/cb/e5/ac701e12d365a08917bf4c6171c0961bc880a8181359c66aa7\n",
            "Successfully built lime\n",
            "Installing collected packages: lime\n",
            "Successfully installed lime-0.2.0.1\n"
          ]
        }
      ]
    },
    {
      "cell_type": "code",
      "metadata": {
        "colab": {
          "base_uri": "https://localhost:8080/"
        },
        "id": "rRqronExaVcg",
        "outputId": "527f156c-a0fc-44b5-ad35-858a58884f59"
      },
      "source": [
        "import pandas as pd\n",
        "import os\n",
        "import requests\n",
        "import io\n",
        "import matplotlib.pyplot as plt\n",
        "import numpy as np\n",
        "import nltk\n",
        "nltk.download('punkt')\n",
        "from nltk.corpus import stopwords\n",
        "nltk.download('stopwords')\n",
        "from nltk.stem import PorterStemmer\n",
        "import operator\n",
        "import re\n",
        "import seaborn as sns\n",
        "from wordcloud import WordCloud\n",
        "from lime import lime_text"
      ],
      "execution_count": 25,
      "outputs": [
        {
          "output_type": "stream",
          "name": "stdout",
          "text": [
            "[nltk_data] Downloading package punkt to /root/nltk_data...\n",
            "[nltk_data]   Package punkt is already up-to-date!\n",
            "[nltk_data] Downloading package stopwords to /root/nltk_data...\n",
            "[nltk_data]   Package stopwords is already up-to-date!\n"
          ]
        }
      ]
    },
    {
      "cell_type": "code",
      "metadata": {
        "colab": {
          "base_uri": "https://localhost:8080/",
          "height": 206
        },
        "id": "TWnr418ibjHo",
        "outputId": "5f7581fa-7dea-425d-b195-ffcab3e6a5dc"
      },
      "source": [
        "path ='https://raw.githubusercontent.com/iAnkitar/ISR_Spotlight/master/train.csv'\n",
        "r = requests.get(path)\n",
        "train_df = pd.read_csv(io.StringIO(r.text),header=0)\n",
        "\n",
        "train_df.sample(5)"
      ],
      "execution_count": 2,
      "outputs": [
        {
          "output_type": "execute_result",
          "data": {
            "text/html": [
              "<div>\n",
              "<style scoped>\n",
              "    .dataframe tbody tr th:only-of-type {\n",
              "        vertical-align: middle;\n",
              "    }\n",
              "\n",
              "    .dataframe tbody tr th {\n",
              "        vertical-align: top;\n",
              "    }\n",
              "\n",
              "    .dataframe thead th {\n",
              "        text-align: right;\n",
              "    }\n",
              "</style>\n",
              "<table border=\"1\" class=\"dataframe\">\n",
              "  <thead>\n",
              "    <tr style=\"text-align: right;\">\n",
              "      <th></th>\n",
              "      <th>stance</th>\n",
              "      <th>message</th>\n",
              "      <th>tweetid</th>\n",
              "    </tr>\n",
              "  </thead>\n",
              "  <tbody>\n",
              "    <tr>\n",
              "      <th>14627</th>\n",
              "      <td>2</td>\n",
              "      <td>South Dakota national park tweets facts about ...</td>\n",
              "      <td>833638</td>\n",
              "    </tr>\n",
              "    <tr>\n",
              "      <th>15168</th>\n",
              "      <td>1</td>\n",
              "      <td>This deplorable minion hates #marriage equalit...</td>\n",
              "      <td>647944</td>\n",
              "    </tr>\n",
              "    <tr>\n",
              "      <th>2756</th>\n",
              "      <td>1</td>\n",
              "      <td>RT @voxdotcom: TrumpÃ¢â‚¬â„¢s election marks t...</td>\n",
              "      <td>704101</td>\n",
              "    </tr>\n",
              "    <tr>\n",
              "      <th>8142</th>\n",
              "      <td>2</td>\n",
              "      <td>RT @TheEconomist: The ocean is the planet's li...</td>\n",
              "      <td>296866</td>\n",
              "    </tr>\n",
              "    <tr>\n",
              "      <th>6852</th>\n",
              "      <td>1</td>\n",
              "      <td>RT @RwandaResources: '#EastAfrica is one ecosy...</td>\n",
              "      <td>361576</td>\n",
              "    </tr>\n",
              "  </tbody>\n",
              "</table>\n",
              "</div>"
            ],
            "text/plain": [
              "       stance                                            message  tweetid\n",
              "14627       2  South Dakota national park tweets facts about ...   833638\n",
              "15168       1  This deplorable minion hates #marriage equalit...   647944\n",
              "2756        1  RT @voxdotcom: TrumpÃ¢â‚¬â„¢s election marks t...   704101\n",
              "8142        2  RT @TheEconomist: The ocean is the planet's li...   296866\n",
              "6852        1  RT @RwandaResources: '#EastAfrica is one ecosy...   361576"
            ]
          },
          "metadata": {},
          "execution_count": 2
        }
      ]
    },
    {
      "cell_type": "code",
      "metadata": {
        "colab": {
          "base_uri": "https://localhost:8080/"
        },
        "id": "5M_UojHQboJo",
        "outputId": "7c7071c8-1ea2-433c-a50d-5882b48faa25"
      },
      "source": [
        "#Dropping the news from the database\n",
        "train_df = train_df.drop(train_df[train_df.stance == 2].index)\n",
        "print(train_df['stance'].value_counts())"
      ],
      "execution_count": 3,
      "outputs": [
        {
          "output_type": "stream",
          "name": "stdout",
          "text": [
            " 1    8530\n",
            " 0    2353\n",
            "-1    1296\n",
            "Name: stance, dtype: int64\n"
          ]
        }
      ]
    },
    {
      "cell_type": "code",
      "metadata": {
        "id": "D96xZLMfbs41"
      },
      "source": [
        "x = train_df['message']\n",
        "y = train_df['stance']"
      ],
      "execution_count": 4,
      "outputs": []
    },
    {
      "cell_type": "code",
      "metadata": {
        "id": "9h3B_WoppHME"
      },
      "source": [
        "stop_words = stopwords.words('english')\n",
        "stemmer = PorterStemmer()"
      ],
      "execution_count": 5,
      "outputs": []
    },
    {
      "cell_type": "code",
      "metadata": {
        "id": "ZD_L3Z3XpLCZ"
      },
      "source": [
        "#Preprocessing the data\n",
        "cleaned_data=[]\n",
        "for i in range(len(x)):\n",
        "   tweet = re.sub('[^a-zA-Z]',' ',x.iloc[i])\n",
        "   tweet = tweet.lower().split()\n",
        "   tweet = [stemmer.stem(word) for word in tweet if (word not in stop_words)]\n",
        "   tweet = ' '.join(tweet)\n",
        "   cleaned_data.append(tweet)"
      ],
      "execution_count": 6,
      "outputs": []
    },
    {
      "cell_type": "code",
      "metadata": {
        "id": "qH00-clNvkuS"
      },
      "source": [
        "from sklearn.feature_extraction.text import CountVectorizer\n",
        "from sklearn.metrics import classification_report\n",
        "from sklearn.naive_bayes import MultinomialNB\n",
        "from sklearn.model_selection import train_test_split\n",
        "\n",
        "cv = CountVectorizer(max_features=3000)\n",
        "X_fin = cv.fit_transform(cleaned_data).toarray()"
      ],
      "execution_count": 7,
      "outputs": []
    },
    {
      "cell_type": "code",
      "metadata": {
        "id": "22iM1p54q-rW"
      },
      "source": [
        "#setting the model as Multinomial Naive Bayes\n",
        "model = MultinomialNB()"
      ],
      "execution_count": 8,
      "outputs": []
    },
    {
      "cell_type": "code",
      "metadata": {
        "colab": {
          "base_uri": "https://localhost:8080/"
        },
        "id": "M-XAAM1Bq_Xj",
        "outputId": "77241189-251b-46b0-fc2d-2fd9184d7fa0"
      },
      "source": [
        "#Spliting the data into train and test\n",
        "X_train,X_test,y_train,y_test = train_test_split(X_fin,y,test_size=0.3)\n",
        "model.fit(X_train,y_train)"
      ],
      "execution_count": 9,
      "outputs": [
        {
          "output_type": "execute_result",
          "data": {
            "text/plain": [
              "MultinomialNB()"
            ]
          },
          "metadata": {},
          "execution_count": 9
        }
      ]
    },
    {
      "cell_type": "code",
      "metadata": {
        "id": "rayLOND3rPY3"
      },
      "source": [
        "#Predicting the stance values for test data\n",
        "y_pred = model.predict(X_test)"
      ],
      "execution_count": 10,
      "outputs": []
    },
    {
      "cell_type": "code",
      "metadata": {
        "colab": {
          "base_uri": "https://localhost:8080/"
        },
        "id": "ffKLPy3nwazB",
        "outputId": "fb5238a3-4dea-4c24-b02a-d2550ec75f39"
      },
      "source": [
        "#Printing the report \n",
        "cf = classification_report(y_test,y_pred)\n",
        "print(cf)"
      ],
      "execution_count": 11,
      "outputs": [
        {
          "output_type": "stream",
          "name": "stdout",
          "text": [
            "              precision    recall  f1-score   support\n",
            "\n",
            "          -1       0.60      0.54      0.57       386\n",
            "           0       0.51      0.48      0.50       712\n",
            "           1       0.83      0.86      0.85      2556\n",
            "\n",
            "    accuracy                           0.75      3654\n",
            "   macro avg       0.65      0.63      0.64      3654\n",
            "weighted avg       0.75      0.75      0.75      3654\n",
            "\n"
          ]
        }
      ]
    },
    {
      "cell_type": "code",
      "source": [
        "import sklearn.metrics as metrics\n",
        "classes = np.unique(y_test)\n",
        "y_test_array = pd.get_dummies(y_test, drop_first=False).values\n",
        "    \n",
        "## Accuracy, Precision, Recall\n",
        "accuracy = metrics.accuracy_score(y_test, y_pred)\n",
        "# auc = metrics.roc_auc_score(y_test, predicted_prob, \n",
        "#                             multi_class=\"ovr\")\n",
        "print(\"Accuracy:\",  round(accuracy,2))\n",
        "# print(\"Auc:\", round(auc,2))\n",
        "print(\"Detail:\")\n",
        "#print(metrics.classification_report(y_test, y_pred))\n",
        "    \n",
        "## Plot confusion matrix\n",
        "cm = metrics.confusion_matrix(y_test, y_pred)\n",
        "fig, ax = plt.subplots()\n",
        "sns.heatmap(cm, annot=True, fmt='d', ax=ax, cmap=plt.cm.Blues, \n",
        "            cbar=False)\n",
        "ax.set(xlabel=\"Pred\", ylabel=\"True\", xticklabels=classes, \n",
        "       yticklabels=classes, title=\"Confusion matrix\")\n",
        "plt.yticks(rotation=0)\n",
        "\n"
      ],
      "metadata": {
        "colab": {
          "base_uri": "https://localhost:8080/",
          "height": 347
        },
        "id": "Ho6ayFYaPo7O",
        "outputId": "a81c7cf6-e53d-48c1-a44f-21a02dabe0b4"
      },
      "execution_count": 43,
      "outputs": [
        {
          "output_type": "stream",
          "name": "stdout",
          "text": [
            "Accuracy: 0.75\n",
            "Detail:\n"
          ]
        },
        {
          "output_type": "execute_result",
          "data": {
            "text/plain": [
              "(array([0.5, 1.5, 2.5]), <a list of 3 Text major ticklabel objects>)"
            ]
          },
          "metadata": {},
          "execution_count": 43
        },
        {
          "output_type": "display_data",
          "data": {
            "image/png": "[encoded data removed]",
            "text/plain": [
              "<Figure size 432x288 with 1 Axes>"
            ]
          },
          "metadata": {
            "needs_background": "light"
          }
        }
      ]
    }
  ]
}