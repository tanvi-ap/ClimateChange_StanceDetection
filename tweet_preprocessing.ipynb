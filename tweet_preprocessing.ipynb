{
  "nbformat": 4,
  "nbformat_minor": 0,
  "metadata": {
    "colab": {
      "name": "tweet_preprocessing.ipynb",
      "provenance": [],
      "collapsed_sections": [],
      "authorship_tag": "ABX9TyNPlpZTU1GbtRNEa4y5AZDG",
      "include_colab_link": true
    },
    "kernelspec": {
      "name": "python3",
      "display_name": "Python 3"
    },
    "language_info": {
      "name": "python"
    }
  },
  "cells": [
    {
      "cell_type": "markdown",
      "metadata": {
        "id": "view-in-github",
        "colab_type": "text"
      },
      "source": [
        "<a href=\"https://colab.research.google.com/github/tanvi-ap/ClimateChange_StanceDetection/blob/main/tweet_preprocessing.ipynb\" target=\"_parent\"><img src=\"https://colab.research.google.com/assets/colab-badge.svg\" alt=\"Open In Colab\"/></a>"
      ]
    },
    {
      "cell_type": "code",
      "metadata": {
        "colab": {
          "base_uri": "https://localhost:8080/"
        },
        "id": "LIMoo9orUh2B",
        "outputId": "b344c50e-ad36-4e9a-df1e-fc84895e3699"
      },
      "source": [
        "!pip install tweet-preprocessor"
      ],
      "execution_count": null,
      "outputs": [
        {
          "output_type": "stream",
          "name": "stdout",
          "text": [
            "Collecting tweet-preprocessor\n",
            "  Downloading tweet_preprocessor-0.6.0-py3-none-any.whl (27 kB)\n",
            "Installing collected packages: tweet-preprocessor\n",
            "Successfully installed tweet-preprocessor-0.6.0\n"
          ]
        }
      ]
    },
    {
      "cell_type": "code",
      "metadata": {
        "id": "zWySO1PaRckp"
      },
      "source": [
        "import requests\n",
        "import io\n",
        "import pandas as pd\n",
        "\n",
        "import preprocessor as p\n",
        "\n",
        "from datetime import datetime, date, timedelta\n",
        "\n",
        "import numpy as np\n",
        "\n"
      ],
      "execution_count": null,
      "outputs": []
    },
    {
      "cell_type": "code",
      "metadata": {
        "colab": {
          "base_uri": "https://localhost:8080/"
        },
        "id": "7KDNj35JEKqO",
        "outputId": "86538428-2c94-4f5c-899f-502f39530bad"
      },
      "source": [
        "from google.colab import drive\n",
        "drive.mount('/drive')"
      ],
      "execution_count": null,
      "outputs": [
        {
          "output_type": "stream",
          "name": "stdout",
          "text": [
            "Mounted at /drive\n"
          ]
        }
      ]
    },
    {
      "cell_type": "code",
      "metadata": {
        "id": "GJcpieSNFQD4"
      },
      "source": [
        "import pandas as pd\n",
        "import glob\n",
        "import os\n",
        "import fnmatch\n",
        "\n",
        "#df1 = pd.read_csv('/drive/MyDrive/covid_vaccine_tweets_extracted_20211202_043040.csv')\n",
        "#df2 =\n",
        "\n",
        "path = '/drive/MyDrive/'\n",
        "\n",
        "for filename in os.listdir(path):\n",
        "  #if fnmatch.fnmatch(filename,'covid_vaccine_tweets_extracted_*.csv'):\n",
        "  if fnmatch.fnmatch(filename,'climate_change_tweets_extracted_*.csv'):\n",
        "    #print(filename)\n",
        "    df_from_file = pd.read_csv(path+'/'+filename,index_col=0) \n",
        "    final_df = pd.concat([df_from_file])\n",
        "\n",
        "#type(df_from_file)"
      ],
      "execution_count": null,
      "outputs": []
    },
    {
      "cell_type": "code",
      "metadata": {
        "colab": {
          "base_uri": "https://localhost:8080/",
          "height": 293
        },
        "id": "idTnH__PJsOy",
        "outputId": "62e0003b-7fa2-4618-dede-46623ccdabc4"
      },
      "source": [
        "final_df.head()"
      ],
      "execution_count": null,
      "outputs": [
        {
          "output_type": "execute_result",
          "data": {
            "text/html": [
              "<div>\n",
              "<style scoped>\n",
              "    .dataframe tbody tr th:only-of-type {\n",
              "        vertical-align: middle;\n",
              "    }\n",
              "\n",
              "    .dataframe tbody tr th {\n",
              "        vertical-align: top;\n",
              "    }\n",
              "\n",
              "    .dataframe thead th {\n",
              "        text-align: right;\n",
              "    }\n",
              "</style>\n",
              "<table border=\"1\" class=\"dataframe\">\n",
              "  <thead>\n",
              "    <tr style=\"text-align: right;\">\n",
              "      <th></th>\n",
              "      <th>username</th>\n",
              "      <th>location</th>\n",
              "      <th>text</th>\n",
              "      <th>hashtags</th>\n",
              "      <th>tweet_date</th>\n",
              "    </tr>\n",
              "  </thead>\n",
              "  <tbody>\n",
              "    <tr>\n",
              "      <th>0</th>\n",
              "      <td>Peter Leighton-Jones Ⓥ 🏴󠁧󠁢󠁷󠁬󠁳󠁿🌱</td>\n",
              "      <td>Leeds, England</td>\n",
              "      <td>@_Spinflight_ Global warming is just one sympt...</td>\n",
              "      <td>[]</td>\n",
              "      <td>2021-11-26 23:45:50</td>\n",
              "    </tr>\n",
              "    <tr>\n",
              "      <th>1</th>\n",
              "      <td>ZNet</td>\n",
              "      <td>NaN</td>\n",
              "      <td>A root reality of injustice experience in the ...</td>\n",
              "      <td>[]</td>\n",
              "      <td>2021-11-26 23:44:25</td>\n",
              "    </tr>\n",
              "    <tr>\n",
              "      <th>2</th>\n",
              "      <td>Playing For Change</td>\n",
              "      <td>The World</td>\n",
              "      <td>Join us December 5th on #PFCPlantATreeDay and ...</td>\n",
              "      <td>[{'text': 'PFCPlantATreeDay', 'indices': [24, ...</td>\n",
              "      <td>2021-11-26 23:30:00</td>\n",
              "    </tr>\n",
              "    <tr>\n",
              "      <th>3</th>\n",
              "      <td>Tom Gillispie, LET'S KEEP NATURE LOOKING NATURAL</td>\n",
              "      <td>Rural Hall, North Carolina, USA</td>\n",
              "      <td>#climate #change The 11TH HOUR FOR THE EARTH #...</td>\n",
              "      <td>[{'text': 'climate', 'indices': [0, 8]}, {'tex...</td>\n",
              "      <td>2021-11-26 23:12:36</td>\n",
              "    </tr>\n",
              "    <tr>\n",
              "      <th>4</th>\n",
              "      <td>@drtimball #climate</td>\n",
              "      <td>Columnist-Landowners Magazine</td>\n",
              "      <td>Canada is the “worst performer” of G7 nations ...</td>\n",
              "      <td>[]</td>\n",
              "      <td>2021-11-26 23:12:11</td>\n",
              "    </tr>\n",
              "  </tbody>\n",
              "</table>\n",
              "</div>"
            ],
            "text/plain": [
              "                                           username  ...           tweet_date\n",
              "0                   Peter Leighton-Jones Ⓥ 🏴󠁧󠁢󠁷󠁬󠁳󠁿🌱  ...  2021-11-26 23:45:50\n",
              "1                                              ZNet  ...  2021-11-26 23:44:25\n",
              "2                                Playing For Change  ...  2021-11-26 23:30:00\n",
              "3  Tom Gillispie, LET'S KEEP NATURE LOOKING NATURAL  ...  2021-11-26 23:12:36\n",
              "4                               @drtimball #climate  ...  2021-11-26 23:12:11\n",
              "\n",
              "[5 rows x 5 columns]"
            ]
          },
          "metadata": {},
          "execution_count": 25
        }
      ]
    },
    {
      "cell_type": "code",
      "metadata": {
        "colab": {
          "base_uri": "https://localhost:8080/",
          "height": 206
        },
        "id": "JEHXhmXvSN3p",
        "outputId": "a40c77f1-6712-4485-c88f-2d06c430069e"
      },
      "source": [
        "#path = 'https://raw.githubusercontent.com/tanvi-ap/Covid19StanceDetection/main/covid19_vaccination.csv'\n",
        "path = 'https://raw.githubusercontent.com/tanvi-ap/ClimateChange_StanceDetection/main/climatechange_tweets%20(2).csv'\n",
        "r = requests.get(path)\n",
        "tweets_df = pd.read_csv(io.StringIO(r.text),index_col=0)\n",
        "\n",
        "tweets_df.head()"
      ],
      "execution_count": null,
      "outputs": [
        {
          "output_type": "execute_result",
          "data": {
            "text/html": [
              "<div>\n",
              "<style scoped>\n",
              "    .dataframe tbody tr th:only-of-type {\n",
              "        vertical-align: middle;\n",
              "    }\n",
              "\n",
              "    .dataframe tbody tr th {\n",
              "        vertical-align: top;\n",
              "    }\n",
              "\n",
              "    .dataframe thead th {\n",
              "        text-align: right;\n",
              "    }\n",
              "</style>\n",
              "<table border=\"1\" class=\"dataframe\">\n",
              "  <thead>\n",
              "    <tr style=\"text-align: right;\">\n",
              "      <th></th>\n",
              "      <th>username</th>\n",
              "      <th>location</th>\n",
              "      <th>text</th>\n",
              "      <th>hashtags</th>\n",
              "      <th>tweet_date</th>\n",
              "    </tr>\n",
              "  </thead>\n",
              "  <tbody>\n",
              "    <tr>\n",
              "      <th>0</th>\n",
              "      <td>NOAAandNASAareRight</td>\n",
              "      <td>NaN</td>\n",
              "      <td>@wattsupwiththat Watts denies rising sea level...</td>\n",
              "      <td>[]</td>\n",
              "      <td>2021-11-21 23:57:20</td>\n",
              "    </tr>\n",
              "    <tr>\n",
              "      <th>1</th>\n",
              "      <td>Neale Jones</td>\n",
              "      <td>Wellington</td>\n",
              "      <td>Challenged by Corin Dann about climate change ...</td>\n",
              "      <td>[]</td>\n",
              "      <td>2021-11-21 23:56:34</td>\n",
              "    </tr>\n",
              "    <tr>\n",
              "      <th>2</th>\n",
              "      <td>Climate Signals</td>\n",
              "      <td>United States</td>\n",
              "      <td>A record high of 52% of respondents said they ...</td>\n",
              "      <td>[]</td>\n",
              "      <td>2021-11-21 23:44:59</td>\n",
              "    </tr>\n",
              "    <tr>\n",
              "      <th>3</th>\n",
              "      <td>Gareth Smith</td>\n",
              "      <td>Dunfermline, Fife KY11 8UH</td>\n",
              "      <td>@Tony__Heller Can you imagine living in a worl...</td>\n",
              "      <td>[]</td>\n",
              "      <td>2021-11-21 23:36:27</td>\n",
              "    </tr>\n",
              "    <tr>\n",
              "      <th>4</th>\n",
              "      <td>Disequal</td>\n",
              "      <td>NaN</td>\n",
              "      <td>@larrythelefty @WhitePaleAle @arayeahs @VaushV...</td>\n",
              "      <td>[]</td>\n",
              "      <td>2021-11-21 23:35:41</td>\n",
              "    </tr>\n",
              "  </tbody>\n",
              "</table>\n",
              "</div>"
            ],
            "text/plain": [
              "              username  ...           tweet_date\n",
              "0  NOAAandNASAareRight  ...  2021-11-21 23:57:20\n",
              "1          Neale Jones  ...  2021-11-21 23:56:34\n",
              "2      Climate Signals  ...  2021-11-21 23:44:59\n",
              "3         Gareth Smith  ...  2021-11-21 23:36:27\n",
              "4             Disequal  ...  2021-11-21 23:35:41\n",
              "\n",
              "[5 rows x 5 columns]"
            ]
          },
          "metadata": {},
          "execution_count": 26
        }
      ]
    },
    {
      "cell_type": "code",
      "metadata": {
        "id": "ntU3zxGfKFBu"
      },
      "source": [
        "final_tweets_df = pd.concat([tweets_df,final_df])"
      ],
      "execution_count": null,
      "outputs": []
    },
    {
      "cell_type": "code",
      "metadata": {
        "colab": {
          "base_uri": "https://localhost:8080/"
        },
        "id": "bCx19AfvKZg4",
        "outputId": "fa014755-9c84-4cd0-ffa4-8b768b957e21"
      },
      "source": [
        "final_tweets_df.shape"
      ],
      "execution_count": null,
      "outputs": [
        {
          "output_type": "execute_result",
          "data": {
            "text/plain": [
              "(24166, 5)"
            ]
          },
          "metadata": {},
          "execution_count": 28
        }
      ]
    },
    {
      "cell_type": "code",
      "metadata": {
        "colab": {
          "base_uri": "https://localhost:8080/",
          "height": 206
        },
        "id": "p4gsyyR7KcPL",
        "outputId": "9a051ab8-6716-4a79-d12a-3d3ccd67d5ab"
      },
      "source": [
        "final_tweets_df.head()"
      ],
      "execution_count": null,
      "outputs": [
        {
          "output_type": "execute_result",
          "data": {
            "text/html": [
              "<div>\n",
              "<style scoped>\n",
              "    .dataframe tbody tr th:only-of-type {\n",
              "        vertical-align: middle;\n",
              "    }\n",
              "\n",
              "    .dataframe tbody tr th {\n",
              "        vertical-align: top;\n",
              "    }\n",
              "\n",
              "    .dataframe thead th {\n",
              "        text-align: right;\n",
              "    }\n",
              "</style>\n",
              "<table border=\"1\" class=\"dataframe\">\n",
              "  <thead>\n",
              "    <tr style=\"text-align: right;\">\n",
              "      <th></th>\n",
              "      <th>username</th>\n",
              "      <th>location</th>\n",
              "      <th>text</th>\n",
              "      <th>hashtags</th>\n",
              "      <th>tweet_date</th>\n",
              "    </tr>\n",
              "  </thead>\n",
              "  <tbody>\n",
              "    <tr>\n",
              "      <th>0</th>\n",
              "      <td>NOAAandNASAareRight</td>\n",
              "      <td>NaN</td>\n",
              "      <td>@wattsupwiththat Watts denies rising sea level...</td>\n",
              "      <td>[]</td>\n",
              "      <td>2021-11-21 23:57:20</td>\n",
              "    </tr>\n",
              "    <tr>\n",
              "      <th>1</th>\n",
              "      <td>Neale Jones</td>\n",
              "      <td>Wellington</td>\n",
              "      <td>Challenged by Corin Dann about climate change ...</td>\n",
              "      <td>[]</td>\n",
              "      <td>2021-11-21 23:56:34</td>\n",
              "    </tr>\n",
              "    <tr>\n",
              "      <th>2</th>\n",
              "      <td>Climate Signals</td>\n",
              "      <td>United States</td>\n",
              "      <td>A record high of 52% of respondents said they ...</td>\n",
              "      <td>[]</td>\n",
              "      <td>2021-11-21 23:44:59</td>\n",
              "    </tr>\n",
              "    <tr>\n",
              "      <th>3</th>\n",
              "      <td>Gareth Smith</td>\n",
              "      <td>Dunfermline, Fife KY11 8UH</td>\n",
              "      <td>@Tony__Heller Can you imagine living in a worl...</td>\n",
              "      <td>[]</td>\n",
              "      <td>2021-11-21 23:36:27</td>\n",
              "    </tr>\n",
              "    <tr>\n",
              "      <th>4</th>\n",
              "      <td>Disequal</td>\n",
              "      <td>NaN</td>\n",
              "      <td>@larrythelefty @WhitePaleAle @arayeahs @VaushV...</td>\n",
              "      <td>[]</td>\n",
              "      <td>2021-11-21 23:35:41</td>\n",
              "    </tr>\n",
              "  </tbody>\n",
              "</table>\n",
              "</div>"
            ],
            "text/plain": [
              "              username  ...           tweet_date\n",
              "0  NOAAandNASAareRight  ...  2021-11-21 23:57:20\n",
              "1          Neale Jones  ...  2021-11-21 23:56:34\n",
              "2      Climate Signals  ...  2021-11-21 23:44:59\n",
              "3         Gareth Smith  ...  2021-11-21 23:36:27\n",
              "4             Disequal  ...  2021-11-21 23:35:41\n",
              "\n",
              "[5 rows x 5 columns]"
            ]
          },
          "metadata": {},
          "execution_count": 29
        }
      ]
    },
    {
      "cell_type": "code",
      "metadata": {
        "colab": {
          "base_uri": "https://localhost:8080/",
          "height": 597
        },
        "id": "qnjyM7BYUIXG",
        "outputId": "7751f748-eef0-4225-d224-f2f13afc2473"
      },
      "source": [
        "final_tweets_df.sort_values(by='tweet_date').reset_index(drop = True)"
      ],
      "execution_count": null,
      "outputs": [
        {
          "output_type": "execute_result",
          "data": {
            "text/html": [
              "<div>\n",
              "<style scoped>\n",
              "    .dataframe tbody tr th:only-of-type {\n",
              "        vertical-align: middle;\n",
              "    }\n",
              "\n",
              "    .dataframe tbody tr th {\n",
              "        vertical-align: top;\n",
              "    }\n",
              "\n",
              "    .dataframe thead th {\n",
              "        text-align: right;\n",
              "    }\n",
              "</style>\n",
              "<table border=\"1\" class=\"dataframe\">\n",
              "  <thead>\n",
              "    <tr style=\"text-align: right;\">\n",
              "      <th></th>\n",
              "      <th>username</th>\n",
              "      <th>location</th>\n",
              "      <th>text</th>\n",
              "      <th>hashtags</th>\n",
              "      <th>tweet_date</th>\n",
              "    </tr>\n",
              "  </thead>\n",
              "  <tbody>\n",
              "    <tr>\n",
              "      <th>0</th>\n",
              "      <td>K M Resist</td>\n",
              "      <td>USA</td>\n",
              "      <td>@dcminx The fact we call it climate change now...</td>\n",
              "      <td>[]</td>\n",
              "      <td>2021-11-20 21:19:24</td>\n",
              "    </tr>\n",
              "    <tr>\n",
              "      <th>1</th>\n",
              "      <td>K M Resist</td>\n",
              "      <td>USA</td>\n",
              "      <td>@dcminx The fact we call it climate change now...</td>\n",
              "      <td>[]</td>\n",
              "      <td>2021-11-20 21:19:24</td>\n",
              "    </tr>\n",
              "    <tr>\n",
              "      <th>2</th>\n",
              "      <td>K M Resist</td>\n",
              "      <td>USA</td>\n",
              "      <td>@dcminx The fact we call it climate change now...</td>\n",
              "      <td>[]</td>\n",
              "      <td>2021-11-20 21:19:24</td>\n",
              "    </tr>\n",
              "    <tr>\n",
              "      <th>3</th>\n",
              "      <td>K M Resist</td>\n",
              "      <td>USA</td>\n",
              "      <td>@dcminx The fact we call it climate change now...</td>\n",
              "      <td>[]</td>\n",
              "      <td>2021-11-20 21:19:24</td>\n",
              "    </tr>\n",
              "    <tr>\n",
              "      <th>4</th>\n",
              "      <td>K M Resist</td>\n",
              "      <td>USA</td>\n",
              "      <td>@dcminx The fact we call it climate change now...</td>\n",
              "      <td>[]</td>\n",
              "      <td>2021-11-20 21:19:24</td>\n",
              "    </tr>\n",
              "    <tr>\n",
              "      <th>...</th>\n",
              "      <td>...</td>\n",
              "      <td>...</td>\n",
              "      <td>...</td>\n",
              "      <td>...</td>\n",
              "      <td>...</td>\n",
              "    </tr>\n",
              "    <tr>\n",
              "      <th>24161</th>\n",
              "      <td>Susan Brown</td>\n",
              "      <td>Western Australia</td>\n",
              "      <td>@Info_Aus @zalisteggall @ICAN_Vic You cannot d...</td>\n",
              "      <td>[]</td>\n",
              "      <td>2021-12-03 23:09:27</td>\n",
              "    </tr>\n",
              "    <tr>\n",
              "      <th>24162</th>\n",
              "      <td>Daddio Donner 🎅💉🌊💙#BLM 🌈</td>\n",
              "      <td>NaN</td>\n",
              "      <td>@patriottakes Climate doesn't change when the ...</td>\n",
              "      <td>[]</td>\n",
              "      <td>2021-12-03 23:37:31</td>\n",
              "    </tr>\n",
              "    <tr>\n",
              "      <th>24163</th>\n",
              "      <td>TODDO</td>\n",
              "      <td>Mesa, AZ</td>\n",
              "      <td>@MsMeowMix @BFriedmanDC Do you think it will b...</td>\n",
              "      <td>[]</td>\n",
              "      <td>2021-12-03 23:41:10</td>\n",
              "    </tr>\n",
              "    <tr>\n",
              "      <th>24164</th>\n",
              "      <td>Søren Lindgreen</td>\n",
              "      <td>Copenhagen</td>\n",
              "      <td>The practice today is referred to as “geoengin...</td>\n",
              "      <td>[]</td>\n",
              "      <td>2021-12-03 23:44:46</td>\n",
              "    </tr>\n",
              "    <tr>\n",
              "      <th>24165</th>\n",
              "      <td>Bill Murphy</td>\n",
              "      <td>Mountain View, CA</td>\n",
              "      <td>.@JohnBoozman .@SenTomCotton 67% of Arkansas r...</td>\n",
              "      <td>[{'text': 'ActOnClimate', 'indices': [221, 234]}]</td>\n",
              "      <td>2021-12-03 23:57:02</td>\n",
              "    </tr>\n",
              "  </tbody>\n",
              "</table>\n",
              "<p>24166 rows × 5 columns</p>\n",
              "</div>"
            ],
            "text/plain": [
              "                       username  ...           tweet_date\n",
              "0                    K M Resist  ...  2021-11-20 21:19:24\n",
              "1                    K M Resist  ...  2021-11-20 21:19:24\n",
              "2                    K M Resist  ...  2021-11-20 21:19:24\n",
              "3                    K M Resist  ...  2021-11-20 21:19:24\n",
              "4                    K M Resist  ...  2021-11-20 21:19:24\n",
              "...                         ...  ...                  ...\n",
              "24161               Susan Brown  ...  2021-12-03 23:09:27\n",
              "24162  Daddio Donner 🎅💉🌊💙#BLM 🌈  ...  2021-12-03 23:37:31\n",
              "24163                     TODDO  ...  2021-12-03 23:41:10\n",
              "24164           Søren Lindgreen  ...  2021-12-03 23:44:46\n",
              "24165               Bill Murphy  ...  2021-12-03 23:57:02\n",
              "\n",
              "[24166 rows x 5 columns]"
            ]
          },
          "metadata": {},
          "execution_count": 30
        }
      ]
    },
    {
      "cell_type": "code",
      "metadata": {
        "id": "kjfWOLgaRkeA"
      },
      "source": [
        "final_tweets_df['text_cleaned'] = final_tweets_df['text'].apply(lambda x: p.clean(x))"
      ],
      "execution_count": null,
      "outputs": []
    },
    {
      "cell_type": "code",
      "metadata": {
        "colab": {
          "base_uri": "https://localhost:8080/",
          "height": 293
        },
        "id": "tr_l649BSVYr",
        "outputId": "16c4e1bb-5256-46c3-d4f5-418664047543"
      },
      "source": [
        "final_tweets_df.head()"
      ],
      "execution_count": null,
      "outputs": [
        {
          "output_type": "execute_result",
          "data": {
            "text/html": [
              "<div>\n",
              "<style scoped>\n",
              "    .dataframe tbody tr th:only-of-type {\n",
              "        vertical-align: middle;\n",
              "    }\n",
              "\n",
              "    .dataframe tbody tr th {\n",
              "        vertical-align: top;\n",
              "    }\n",
              "\n",
              "    .dataframe thead th {\n",
              "        text-align: right;\n",
              "    }\n",
              "</style>\n",
              "<table border=\"1\" class=\"dataframe\">\n",
              "  <thead>\n",
              "    <tr style=\"text-align: right;\">\n",
              "      <th></th>\n",
              "      <th>username</th>\n",
              "      <th>location</th>\n",
              "      <th>text</th>\n",
              "      <th>hashtags</th>\n",
              "      <th>tweet_date</th>\n",
              "      <th>text_cleaned</th>\n",
              "    </tr>\n",
              "  </thead>\n",
              "  <tbody>\n",
              "    <tr>\n",
              "      <th>0</th>\n",
              "      <td>NOAAandNASAareRight</td>\n",
              "      <td>NaN</td>\n",
              "      <td>@wattsupwiththat Watts denies rising sea level...</td>\n",
              "      <td>[]</td>\n",
              "      <td>2021-11-21 23:57:20</td>\n",
              "      <td>Watts denies rising sea levels -- of course! T...</td>\n",
              "    </tr>\n",
              "    <tr>\n",
              "      <th>1</th>\n",
              "      <td>Neale Jones</td>\n",
              "      <td>Wellington</td>\n",
              "      <td>Challenged by Corin Dann about climate change ...</td>\n",
              "      <td>[]</td>\n",
              "      <td>2021-11-21 23:56:34</td>\n",
              "      <td>Challenged by Corin Dann about climate change ...</td>\n",
              "    </tr>\n",
              "    <tr>\n",
              "      <th>2</th>\n",
              "      <td>Climate Signals</td>\n",
              "      <td>United States</td>\n",
              "      <td>A record high of 52% of respondents said they ...</td>\n",
              "      <td>[]</td>\n",
              "      <td>2021-11-21 23:44:59</td>\n",
              "      <td>A record high of % of respondents said they ha...</td>\n",
              "    </tr>\n",
              "    <tr>\n",
              "      <th>3</th>\n",
              "      <td>Gareth Smith</td>\n",
              "      <td>Dunfermline, Fife KY11 8UH</td>\n",
              "      <td>@Tony__Heller Can you imagine living in a worl...</td>\n",
              "      <td>[]</td>\n",
              "      <td>2021-11-21 23:36:27</td>\n",
              "      <td>Can you imagine living in a world where climat...</td>\n",
              "    </tr>\n",
              "    <tr>\n",
              "      <th>4</th>\n",
              "      <td>Disequal</td>\n",
              "      <td>NaN</td>\n",
              "      <td>@larrythelefty @WhitePaleAle @arayeahs @VaushV...</td>\n",
              "      <td>[]</td>\n",
              "      <td>2021-11-21 23:35:41</td>\n",
              "      <td>I absolutely believe climate change and global...</td>\n",
              "    </tr>\n",
              "  </tbody>\n",
              "</table>\n",
              "</div>"
            ],
            "text/plain": [
              "              username  ...                                       text_cleaned\n",
              "0  NOAAandNASAareRight  ...  Watts denies rising sea levels -- of course! T...\n",
              "1          Neale Jones  ...  Challenged by Corin Dann about climate change ...\n",
              "2      Climate Signals  ...  A record high of % of respondents said they ha...\n",
              "3         Gareth Smith  ...  Can you imagine living in a world where climat...\n",
              "4             Disequal  ...  I absolutely believe climate change and global...\n",
              "\n",
              "[5 rows x 6 columns]"
            ]
          },
          "metadata": {},
          "execution_count": 32
        }
      ]
    },
    {
      "cell_type": "code",
      "metadata": {
        "colab": {
          "base_uri": "https://localhost:8080/"
        },
        "id": "vkIRQhtySXj5",
        "outputId": "55c369e4-a485-429a-eb93-a5018550afd8"
      },
      "source": [
        "tweets_df_final = final_tweets_df[(final_tweets_df['text'].str.contains(\"climate\")) \n",
        "                            | (final_tweets_df['text'].str.contains(\"Climate\"))]\n",
        "\n",
        "len(tweets_df_final)"
      ],
      "execution_count": null,
      "outputs": [
        {
          "output_type": "execute_result",
          "data": {
            "text/plain": [
              "21133"
            ]
          },
          "metadata": {},
          "execution_count": 34
        }
      ]
    },
    {
      "cell_type": "code",
      "metadata": {
        "id": "wBzZSgr1W5Lu"
      },
      "source": [
        "tweets_df = tweets_df_final.copy()"
      ],
      "execution_count": null,
      "outputs": []
    },
    {
      "cell_type": "code",
      "metadata": {
        "id": "kiK_nbPDavgz"
      },
      "source": [
        "# Clean tweet text with tweet-preprocessor\n",
        "tweets_df['text_cleaned'] = tweets_df['text'].apply(lambda x: p.clean(x))"
      ],
      "execution_count": null,
      "outputs": []
    },
    {
      "cell_type": "code",
      "metadata": {
        "colab": {
          "base_uri": "https://localhost:8080/"
        },
        "id": "UENZZUKgaxUx",
        "outputId": "85fcbda2-1093-4f45-c3a0-5b47f8751ed1"
      },
      "source": [
        "# Remove duplicate tweets\n",
        "tweets_df.drop_duplicates(subset='text_cleaned', keep=\"first\", inplace = True)\n",
        "len(tweets_df)"
      ],
      "execution_count": null,
      "outputs": [
        {
          "output_type": "execute_result",
          "data": {
            "text/plain": [
              "2243"
            ]
          },
          "metadata": {},
          "execution_count": 37
        }
      ]
    },
    {
      "cell_type": "code",
      "metadata": {
        "colab": {
          "base_uri": "https://localhost:8080/"
        },
        "id": "ffa6GivhTC27",
        "outputId": "1a876a14-8a7b-4ab7-d41b-7ac5230183e1"
      },
      "source": [
        "# Create timestamp for datetime of extraction\n",
        "extract_datetime = datetime.today().strftime('%Y%m%d_%H%M%S')\n",
        "filename = '/drive/MyDrive/final_covid_vaccine_tweets_extracted_' + extract_datetime + '.csv'\n",
        "\n",
        "tweets_df_final.drop_duplicates(inplace = True)\n",
        "\n",
        "# Export dataframe as csv file with above filename\n",
        "tweets_df_final.to_csv(filename, index = False)"
      ],
      "execution_count": null,
      "outputs": [
        {
          "output_type": "stream",
          "name": "stderr",
          "text": [
            "/usr/local/lib/python3.7/dist-packages/ipykernel_launcher.py:5: SettingWithCopyWarning: \n",
            "A value is trying to be set on a copy of a slice from a DataFrame\n",
            "\n",
            "See the caveats in the documentation: https://pandas.pydata.org/pandas-docs/stable/user_guide/indexing.html#returning-a-view-versus-a-copy\n",
            "  \"\"\"\n"
          ]
        }
      ]
    },
    {
      "cell_type": "code",
      "metadata": {
        "id": "Uyp8mlskay_v"
      },
      "source": [
        "# Remove unnecessary characters\n",
        "# Note: Need to remove % as Stanford CoreNLP annotation encounters error if text contains some of these characters\n",
        "punct =['%','/',':','\\\\','&amp;','&',';']\n",
        "\n",
        "def remove_punctuations(text):\n",
        "    for punctuation in punct:\n",
        "        text = text.replace(punctuation, '')\n",
        "    return text\n",
        "\n",
        "tweets_df['text_cleaned'] = tweets_df['text_cleaned'].apply(lambda x: remove_punctuations(x))"
      ],
      "execution_count": null,
      "outputs": []
    },
    {
      "cell_type": "code",
      "metadata": {
        "colab": {
          "base_uri": "https://localhost:8080/"
        },
        "id": "dI4SBfZgbEDc",
        "outputId": "6b9ce6ee-6a12-479c-f577-dd9f2b5c7fef"
      },
      "source": [
        "# Drop tweets which have empty text field\n",
        "tweets_df['text_cleaned'].replace('', np.nan, inplace=True)\n",
        "tweets_df['text_cleaned'].replace(' ', np.nan, inplace=True)\n",
        "tweets_df.dropna(subset=['text_cleaned'], inplace=True)\n",
        "len(tweets_df)"
      ],
      "execution_count": null,
      "outputs": [
        {
          "output_type": "execute_result",
          "data": {
            "text/plain": [
              "2243"
            ]
          },
          "metadata": {},
          "execution_count": 40
        }
      ]
    },
    {
      "cell_type": "code",
      "metadata": {
        "colab": {
          "base_uri": "https://localhost:8080/",
          "height": 293
        },
        "id": "wWzr6ihPbF-y",
        "outputId": "47644da4-fa69-40cf-dcab-b739fff56a6e"
      },
      "source": [
        "tweets_df = tweets_df.reset_index(drop=True)\n",
        "tweets_df.sample(5)"
      ],
      "execution_count": null,
      "outputs": [
        {
          "output_type": "execute_result",
          "data": {
            "text/html": [
              "<div>\n",
              "<style scoped>\n",
              "    .dataframe tbody tr th:only-of-type {\n",
              "        vertical-align: middle;\n",
              "    }\n",
              "\n",
              "    .dataframe tbody tr th {\n",
              "        vertical-align: top;\n",
              "    }\n",
              "\n",
              "    .dataframe thead th {\n",
              "        text-align: right;\n",
              "    }\n",
              "</style>\n",
              "<table border=\"1\" class=\"dataframe\">\n",
              "  <thead>\n",
              "    <tr style=\"text-align: right;\">\n",
              "      <th></th>\n",
              "      <th>username</th>\n",
              "      <th>location</th>\n",
              "      <th>text</th>\n",
              "      <th>hashtags</th>\n",
              "      <th>tweet_date</th>\n",
              "      <th>text_cleaned</th>\n",
              "    </tr>\n",
              "  </thead>\n",
              "  <tbody>\n",
              "    <tr>\n",
              "      <th>990</th>\n",
              "      <td>Dave</td>\n",
              "      <td>North Carolina, USA</td>\n",
              "      <td>@44MagnumBlue1 They're due for a name change a...</td>\n",
              "      <td>[]</td>\n",
              "      <td>2021-11-25 00:27:30</td>\n",
              "      <td>They're due for a name change and rebranding o...</td>\n",
              "    </tr>\n",
              "    <tr>\n",
              "      <th>337</th>\n",
              "      <td>Alfie Arthur Archie</td>\n",
              "      <td>West Yorkshire</td>\n",
              "      <td>Global warming is fake and climate change is f...</td>\n",
              "      <td>[]</td>\n",
              "      <td>2021-11-23 22:23:38</td>\n",
              "      <td>Global warming is fake and climate change is f...</td>\n",
              "    </tr>\n",
              "    <tr>\n",
              "      <th>1540</th>\n",
              "      <td>أبو الحسنات الصدیق</td>\n",
              "      <td>London, Casablanca</td>\n",
              "      <td>Read this in-depth feature by @russianabout on...</td>\n",
              "      <td>[{'text': 'climatechange', 'indices': [125, 13...</td>\n",
              "      <td>2021-11-29 15:32:51</td>\n",
              "      <td>Read this in-depth feature by on what lies ahe...</td>\n",
              "    </tr>\n",
              "    <tr>\n",
              "      <th>53</th>\n",
              "      <td>Trotsky like Wokester 🇨🇦</td>\n",
              "      <td>Lekwungen Land</td>\n",
              "      <td>@terry_truchan I don't need to know the scienc...</td>\n",
              "      <td>[]</td>\n",
              "      <td>2021-11-21 18:03:30</td>\n",
              "      <td>I don't need to know the science of climate ch...</td>\n",
              "    </tr>\n",
              "    <tr>\n",
              "      <th>2059</th>\n",
              "      <td>Liberty Bell Society</td>\n",
              "      <td>The America's</td>\n",
              "      <td>@blaw52 “Climate change”, formally known as “g...</td>\n",
              "      <td>[]</td>\n",
              "      <td>2021-12-02 03:54:47</td>\n",
              "      <td>Climate change, formally known as global warmi...</td>\n",
              "    </tr>\n",
              "  </tbody>\n",
              "</table>\n",
              "</div>"
            ],
            "text/plain": [
              "                      username  ...                                       text_cleaned\n",
              "990                       Dave  ...  They're due for a name change and rebranding o...\n",
              "337        Alfie Arthur Archie  ...  Global warming is fake and climate change is f...\n",
              "1540        أبو الحسنات الصدیق  ...  Read this in-depth feature by on what lies ahe...\n",
              "53    Trotsky like Wokester 🇨🇦  ...  I don't need to know the science of climate ch...\n",
              "2059      Liberty Bell Society  ...  Climate change, formally known as global warmi...\n",
              "\n",
              "[5 rows x 6 columns]"
            ]
          },
          "metadata": {},
          "execution_count": 41
        }
      ]
    },
    {
      "cell_type": "code",
      "metadata": {
        "id": "jkhPTUM5bNUC"
      },
      "source": [
        "#tweets_df.to_csv('/drive/MyDrive/covid19_train.csv')\n",
        "tweets_df.to_csv('/drive/MyDrive/climate_change_train.csv')"
      ],
      "execution_count": null,
      "outputs": []
    },
    {
      "cell_type": "code",
      "metadata": {
        "id": "TzEaYDMFdXG5"
      },
      "source": [
        ""
      ],
      "execution_count": null,
      "outputs": []
    }
  ]
}