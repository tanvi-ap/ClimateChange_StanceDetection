{
  "nbformat": 4,
  "nbformat_minor": 0,
  "metadata": {
    "colab": {
      "name": "ISRP_V1.ipynb",
      "provenance": []
    },
    "kernelspec": {
      "name": "python3",
      "display_name": "Python 3"
    },
    "language_info": {
      "name": "python"
    }
  },
  "cells": [
    {
      "cell_type": "code",
      "metadata": {
        "colab": {
          "base_uri": "https://localhost:8080/"
        },
        "id": "rRqronExaVcg",
        "outputId": "4d276771-75b7-4377-f803-2bafdb1294c5"
      },
      "source": [
        "import pandas as pd\n",
        "import os\n",
        "import requests\n",
        "import io\n",
        "import matplotlib.pyplot as plt\n",
        "import numpy as np\n",
        "import nltk\n",
        "nltk.download('punkt')\n",
        "import operator\n",
        "import re\n",
        "import seaborn as sns\n",
        "\n",
        "from wordcloud import WordCloud"
      ],
      "execution_count": null,
      "outputs": [
        {
          "output_type": "stream",
          "name": "stdout",
          "text": [
            "[nltk_data] Downloading package punkt to /root/nltk_data...\n",
            "[nltk_data]   Package punkt is already up-to-date!\n"
          ]
        }
      ]
    },
    {
      "cell_type": "code",
      "metadata": {
        "colab": {
          "base_uri": "https://localhost:8080/",
          "height": 238
        },
        "id": "TWnr418ibjHo",
        "outputId": "8d48537e-25ca-4820-8cfb-21b0cb4d181a"
      },
      "source": [
        "path ='https://raw.githubusercontent.com/tanvi-ap/ClimateChange_StanceDetection/main/Climate_change_train.csv'\n",
        "r = requests.get(path)\n",
        "train_df = pd.read_csv(io.StringIO(r.text),index_col=0)\n",
        "\n",
        "train_df.sample(5)"
      ],
      "execution_count": null,
      "outputs": [
        {
          "output_type": "execute_result",
          "data": {
            "text/html": [
              "<div>\n",
              "<style scoped>\n",
              "    .dataframe tbody tr th:only-of-type {\n",
              "        vertical-align: middle;\n",
              "    }\n",
              "\n",
              "    .dataframe tbody tr th {\n",
              "        vertical-align: top;\n",
              "    }\n",
              "\n",
              "    .dataframe thead th {\n",
              "        text-align: right;\n",
              "    }\n",
              "</style>\n",
              "<table border=\"1\" class=\"dataframe\">\n",
              "  <thead>\n",
              "    <tr style=\"text-align: right;\">\n",
              "      <th></th>\n",
              "      <th>Target</th>\n",
              "      <th>Tweet</th>\n",
              "      <th>Stance</th>\n",
              "    </tr>\n",
              "    <tr>\n",
              "      <th>ID</th>\n",
              "      <th></th>\n",
              "      <th></th>\n",
              "      <th></th>\n",
              "    </tr>\n",
              "  </thead>\n",
              "  <tbody>\n",
              "    <tr>\n",
              "      <th>10276</th>\n",
              "      <td>Climate Change is a Real Concern</td>\n",
              "      <td>Counting down the days until my PhD starts #77...</td>\n",
              "      <td>NONE</td>\n",
              "    </tr>\n",
              "    <tr>\n",
              "      <th>732</th>\n",
              "      <td>Climate Change is a Real Concern</td>\n",
              "      <td>Oh my lord! So hot and humid for few days now....</td>\n",
              "      <td>FAVOR</td>\n",
              "    </tr>\n",
              "    <tr>\n",
              "      <th>10341</th>\n",
              "      <td>Climate Change is a Real Concern</td>\n",
              "      <td>#ClimateChangeDefinitions \"settled science\" = ...</td>\n",
              "      <td>AGAINST</td>\n",
              "    </tr>\n",
              "    <tr>\n",
              "      <th>623</th>\n",
              "      <td>Climate Change is a Real Concern</td>\n",
              "      <td>The Climate Change people are disgusting assho...</td>\n",
              "      <td>AGAINST</td>\n",
              "    </tr>\n",
              "    <tr>\n",
              "      <th>671</th>\n",
              "      <td>Climate Change is a Real Concern</td>\n",
              "      <td>Dear #seattleweather please stay exactly how y...</td>\n",
              "      <td>NONE</td>\n",
              "    </tr>\n",
              "  </tbody>\n",
              "</table>\n",
              "</div>"
            ],
            "text/plain": [
              "                                 Target  ...   Stance\n",
              "ID                                       ...         \n",
              "10276  Climate Change is a Real Concern  ...     NONE\n",
              "732    Climate Change is a Real Concern  ...    FAVOR\n",
              "10341  Climate Change is a Real Concern  ...  AGAINST\n",
              "623    Climate Change is a Real Concern  ...  AGAINST\n",
              "671    Climate Change is a Real Concern  ...     NONE\n",
              "\n",
              "[5 rows x 3 columns]"
            ]
          },
          "metadata": {},
          "execution_count": 18
        }
      ]
    },
    {
      "cell_type": "code",
      "metadata": {
        "colab": {
          "base_uri": "https://localhost:8080/"
        },
        "id": "5M_UojHQboJo",
        "outputId": "7f5738f0-b19b-455b-9d39-9a5734985b05"
      },
      "source": [
        "train_df['Stance'].value_counts()"
      ],
      "execution_count": null,
      "outputs": [
        {
          "output_type": "execute_result",
          "data": {
            "text/plain": [
              "FAVOR      335\n",
              "NONE       203\n",
              "AGAINST     26\n",
              "Name: Stance, dtype: int64"
            ]
          },
          "metadata": {},
          "execution_count": 19
        }
      ]
    },
    {
      "cell_type": "code",
      "metadata": {
        "id": "D96xZLMfbs41"
      },
      "source": [
        "x = train_df['Tweet']\n",
        "y = train_df['Stance']"
      ],
      "execution_count": null,
      "outputs": []
    },
    {
      "cell_type": "code",
      "metadata": {
        "colab": {
          "base_uri": "https://localhost:8080/"
        },
        "id": "U87lQ1AeuJvm",
        "outputId": "de5a3c97-38e7-4e55-bd8a-ebd00452225e"
      },
      "source": [
        "# !pip install tweet-preprocessor\n",
        "# import preprocessor as p"
      ],
      "execution_count": null,
      "outputs": [
        {
          "output_type": "stream",
          "name": "stdout",
          "text": [
            "Collecting tweet-preprocessor\n",
            "  Downloading tweet_preprocessor-0.6.0-py3-none-any.whl (27 kB)\n",
            "Installing collected packages: tweet-preprocessor\n",
            "Successfully installed tweet-preprocessor-0.6.0\n"
          ]
        }
      ]
    },
    {
      "cell_type": "code",
      "metadata": {
        "colab": {
          "base_uri": "https://localhost:8080/"
        },
        "id": "Bf2iEHrYo9rn",
        "outputId": "257fcbe0-6294-4688-dd0f-7b03f3f8e9e6"
      },
      "source": [
        "from nltk.corpus import stopwords\n",
        "nltk.download('stopwords')\n",
        "from nltk.stem import PorterStemmer"
      ],
      "execution_count": null,
      "outputs": [
        {
          "output_type": "stream",
          "name": "stdout",
          "text": [
            "[nltk_data] Downloading package stopwords to /root/nltk_data...\n",
            "[nltk_data]   Package stopwords is already up-to-date!\n"
          ]
        }
      ]
    },
    {
      "cell_type": "code",
      "metadata": {
        "id": "9h3B_WoppHME"
      },
      "source": [
        "stop_words=stopwords.words('english')\n",
        "stemmer=PorterStemmer()"
      ],
      "execution_count": null,
      "outputs": []
    },
    {
      "cell_type": "code",
      "metadata": {
        "id": "ZD_L3Z3XpLCZ"
      },
      "source": [
        "import re\n",
        "cleaned_data=[]\n",
        "for i in range(len(x)):\n",
        "   tweet=re.sub('[^a-zA-Z]',' ',x.iloc[i])\n",
        "   tweet=tweet.lower().split()\n",
        "   tweet=[stemmer.stem(word) for word in tweet if (word not in stop_words)]\n",
        "   tweet=' '.join(tweet)\n",
        "   cleaned_data.append(tweet)"
      ],
      "execution_count": null,
      "outputs": []
    },
    {
      "cell_type": "code",
      "metadata": {
        "colab": {
          "base_uri": "https://localhost:8080/"
        },
        "id": "R2l6mF3bp2MN",
        "outputId": "c6b0e927-02fc-42c5-a108-8abecbe8f55a"
      },
      "source": [
        "print(cleaned_data)"
      ],
      "execution_count": null,
      "outputs": [
        {
          "output_type": "stream",
          "name": "stdout",
          "text": [
            "['close door session begin decid entiti gcf semst', 'energiewend agenda de carbon camp long toler lie semst', 'climaspher stocker fish catch potenti could drop much area due oceanacidif cfcc semst', 'longer memori sterner sens justic w berri semst', 'boni futur sea level rise uniform differ coast ccfc journey semst', 'climaspher boni extrem weather event heat wave drought flood windstorm made frequent intens cfcc semst', 'camil parmesan speci chang habitat h cfcc semst', 'meta analys show speci chang live chang live camil parmesan cfcc semst', 'literarli took minut get bu old ladi go front everyon semst', 'grubb state energi shift us eu net produc net import emiss ccfc journey semst', 'interest speaker maarten van aalst feder humanitarian experi help climat scientist ccfc semst', 'put neck regard dion peac gm democraci transpar futur semst', 'grow food lawn lawn ecocid yard patriarchi ecocid speci dominoeffect semst', 'halcyon summer climat move doug kelbaugh cnu declarationsigne semst', 'soundofidea talk new normal semst', 'citizen right access inform would protect live risk climwarn cfcc vulner semst', 'moment canadian realis global warm equal tropic vacat bcwildfir canadaburn semst', 'need altern fossilfuel also need maintain economi chang gradual let start semst', 'defranc displac due natur disast higher caus conflict migrat develop cfcc semst', 'loic ye stop kill anim reason becom vegan stopfamin behealthi semst', 'inherit earth parent borrow children conserv perspect semst', 'vj potu yay love convert solar power pg e plan rais rate actonclim p semst', 'rsaeconomi tax sure play greater role help richer countri slow emiss poor countri transit semst', 'rain feel like fall know kinda summer isreal semst', 'address climat chang sustain develop measur cfiguer sdg climateact cop semst', 'rachelnotley plan get job creat big green energi corp locat alberta taxbreak job semst', 'mission climat home purchas renew power util avekathleen tip impactisr semst', 'normal rain anymor alway storm heavi flood semst', 'alanbrownsnp hs much damag local commun environ use fuel regular train semst', 'western canada burn harper got head deep tarsand see christyclark ankl bcwildfir cdnpoli semst', 'also ridicul weather rain morn like super hot weatherproblem lame semst', 'thewaynek ricksantorum hardbal hardbal chri valu heus ref crimin safeti check weaponsaddress semst', 'eager learn modern prosper event hfxpublib host ecologyact carbonpr jobsjusticeclim semst', 'carbontrad quebec ambiti ghg reduct target nspoli semst', 'jiminhof anthropogenicthat caus human snowballjim semst', 'thought seattl suppos lot rain drought semst', 'scale air qualiti whistler wildfir bcwildfir semst', 'catethegreat ye catherin futur human civilis depend gener act auspol semst', 'excit wit major develop urgenda semst', 'caus ice mass earth melt alarm rate semst', 'mdrewnz nzgreen support canterburi rocket nuclear power nz send nuclear wast space generationz semst', 'sam research irrelev biospher brink collaps deforest thextinct war semst', 'chadcowi indigen ppl save countri late semst', 'turn liverpool plain coal mine bad idea govern like foodbowl shenhua auspol semst', 'cbsnewyork seem marin anim final declar war man due man made environment destruct semst', 'seem may yet get climat apocalyps fuck moron shenhua lnpfail keepitintheground semst', 'weather app keep taunt us rain pnw drought semst', 'help revers climat chang tweet tip inspir other tip savepolarbear semst', 'know thing pretti control happi degre c indoor feel good semst', 'move inch sinc yesterday bcpoli vancouv bcwildfir yvr realrenew semst', 'gwillaumau timpol abcthedrum whelan chrisberg never knew inconveni fact warrant shrink rotflmao auspol semst', 'world place sanction australia insan pursuit new massiv coal mine un auspol sanction semst', 'move summer season life move climat weatherchang rain forecast wind semst', 'climat chang issu make zim semst', 'mission climat home let heat escap hous long period tip earthrightnow semst', 'count day phd start tephrochronolog southernhemispher chronolog oxford semst', 'today europ break heat record asia break lowest temperatur record concern semst', 'paul leadley talk biodivers scenario h cfcc semst', 'cardboard citi joshpaulevan tearfundrhythm cscw uk youth club monday semst', 'dhakal silver bullet solut citi devis local specif respons cfcc semst', 'follow climatpari inform cfcc climat chang confer pari semst', 'cathol pope spot come climat chang protect amazon forest semst', 'food water secur intertwin adapt cost water cfcc journey l semst', 'juli degre imagin winter go feel like year chicagoweath semst', 'adapt someth reduc neg impact enhanc posit impact cfcc journey semst', 'mapsprogramm tackl difficult challeng growth need unemploy alongsid cfcc semst', 'much good lead cop research countri unit address global cfcc semst', 'earth finit natur environ amount dividend valu buy natur divers back semst', 'obama said prevent oil explor complet arctic set highest possibl standard bs shellno semst', 'richardtuffin tuvalu forefront deal consequ climat chang realist auspol semst', 'good discuss ruth valerio arochauk premier radio revcindi key issu affect us pope encycl semst', 'kind earth beneath feet environ semst', 'also rain brazilian central savanna suppos pinnacl dri season semst', 'avg hous us consum kwh per year gore devour nearli kwh x nat averag onpoli semst', 'pleas someon bbcradio clarifi osbourn said oil renew energi budget futureoftheplanet semst', 'particip essenti bring vulner voic tabl cop say wjamann agcop cfcc cgiarclim semst', 'blame citi major co emiss without acknowledg vulner cfcc journey semst', 'foxnew lol bad scientist agre climatechangedeni semst', 'kca votejkt id climatecommrpb green diet eat healthi save planet semst', 'jimharri thank follow jim flatter semst', 'davidsuzukifdn cleanenergycan need hydro bill fix ppl use dirti alt fuel heat home foodorheat onpoli semst', 'asthma hit commun hard chicago say lvejo kim wasserman cleanair kid latino semst', 'extrem humid heat right might kill floridaproblem semst', 'iluvco ungeneva wmonew pariscop u love co understand point view u n know trigger semst', 'seen mountain day fire stand breath air qualiti longer semst', 'ucsusa potu nscpress dhsgov nytim crimin capitalist wreck economi misleadinginvestor risk ecocid semst', 'jare like child porn happen eat meal subway must either semst', 'ucsusa pmharper thomasmulcair kathleen wynn csota fossilfuel corp mislead investor liabil ecocid semst', 'actual second thought pretti bloodi terrifi climatecrisi iss semst', 'gone day would get temperatur min max cape town semst', 'zinta zommer need unifi tool bring variabl togeth cfcc climat semst', 'mission climat home run dishwash full gaiam tip actonclim semst', 'stock market froze summer semst', 'live unexamin life may easier lead disastr consequ actonclim action leadership semst', 'stormchas middleamericam noaa hottest year record look like go break record semst', 'climat chang denier like pre histor cave dweller california governor jerri brown csota uspoli cdnpoli semst', 'happen sunni colorado cloudi denver nosunshin semst', 'biggest terror threat world climat chang drought flood semst', 'done done noth new sun ecclesiast semst', 'one volcano emit pollut man histori semst', 'sensand republican care environ togeth deni fact semst', 'xrisham remind nottingham earli actonclim semst', 'blueislandc jason berri say discuss would buy big pipe mayb work w resilientchicago semst', 'follow skymutu us leader weather riskmanag help world economi adapt climat chang semst', 'csota trend canada twitter w tweet climat summit america sm socialmedia semst', 'stephen harper repres costa care environ cdnpoli environ semst', 'rt theclf thank everyon main contact legisl support energyeffici fund mepoli semst', 'commit green dream govinsle drive chang power parent grandpar csota semst', 'un spokesperson franc un cop norwaymfa last gener address climat chang semst', 'un ice crack summer alarm climatechangehoax semst', 'juli th clean cloth put jean though semst', 'water hole time drink rt vicenew semst', 'understand rain degre right never degre juli semst', 'mckenzieamanda present shift public narr hostil environ good anzca semst', 'degre fahrenheit juli th love weather puremichigan semst', 'coalmin destruct abil live earth stupid kill speci habitat duh shenhua semst', 'abcnew ginger zee give two sentenc climat instead end bs whale stori semst', 'someon send chicken soup conan comic jamesbobi weather noon want semst', 'billmckibben suzyji right big tobacco playbook disgust strategi bulletproof semst', 'guardianau grogsgamut nobodi deni climat chang semst', 'climatechangedefinit settl scienc flaw comput model jigger data forc predefin conclus semst', 'peopl need wake realiz happen earth hello semst', 'questiontim like solv problem relat poverti sustain govern religion busi semst', 'countri like surviv climat chang one infograph surviv infograph semst', 'terraform earth recolon home semst', 'next year thinkbig world solut water semst', 'climat chang alreadi cut global food suppli fuell war natur disast foodfactswithheroradio semst', 'myrmeco still larval theori still poorli model still unquantifi still multi factor still flummox albedo semst', 'whole speci boomer generationx generationi genz need vacat year greek island anyon humanextinct semst', 'mission climat road fli less tip earthrightnow semst', 'edenhof carbon price need suffici need complementari polici counter coal renaiss cfcc semst', 'human make mother earth angri angri reason semst', 'weetfev jonathan tillson defragovuk highlight econom stabil undermin semst', 'uk home build need adapt higher temperatur daniel john thecccuk weetfev adapt semst', 'plant tree make oxygen breath kill rainforest make earth oxygen suppli weak earth semst', 'flag month vs inter gener rot address thingstospendmytaxesonotherthanflag semst', 'climat denier term use silenc point hypocrisi fanat zeal climatetruth semst', 'mission climat road purchas fuel effici low greenhous ga vehicl epa tip missionaccept semst', 'algor chang reason good cheer go win csota semst', 'incred move scientist weep bbcradio ocean grandchildren futur ttp bbc g uil semst', 'follow invit climat summit america onlin via twitter csota toronto environ cop climat semst', 'voic younger gener repres csota say collect futur environ cop semst', 'walshconstco proud sign orbizclimatedeclar commit fight climat chang semst', 'rememb time summer actual summer know sunni degre everyday whatshappen semst', 'neiltyson rettet die erd save earth semst', 'wattsupwiththat ye iron alarmist actual denier semst', 'justintrudeau hey justin give cent stop talk climat chang ottawa davidsuzuki cbc semst', 'epa potu follow scotu anyon els climatefraud specialreport wakeupamerica semst', 'want futur canadian kid need serious wake fuck talk action harper semst', 'govt announc zero carbon home short sight unnecessari retrograd damag say ukgbc energyeffici semst', 'bbcweather good see global awar thank semst', 'kill earth earth wors fine human suffoc drown starv semst', 'sea level rise meter mean mean ft current height semst', 'agent fantasi neglig collus crimin corpor act neglig ecocid semst', 'need govern corpor respond ordinari peopl chang daili habit consum less semst', 'dont capac take act increas capac connect compass semst', 'mission climat home take shower instead bath tip loveourplanet semst', 'thing man made global warm fals narr wakeupamerica boycottsanfrancisco elect semst', 'grow concern pacif island adapt sea level rise increas stormi want avoid becom cc refuge semst', 'evamartino everyon learn recip given summer go get warmer everi year semst', 'rec high temp date charlott set model worst danger emiss semst', 'lot time class nationaljourn semst', 'thelibertyeagl oh love pete thought go inciner semst', 'complain irrelev problem illeg mayb could solv import issu itsjustaflag semst', 'liberalau folk owe offici apolog point absolut minimum peac transpar semst', 'mayb start label everi product made environment footprint sooner later must act semst', 'touch antarctica one reason research impact us would insan democraci goal semst', 'wind power help stabil texa power grid cold snap suddenli increas demand climatehop climat semst', 'cold windi sydney saw climat scientist fli past window auspol climatechangeisr semst', 'cant deni realli happen semst', 'rt cderworiz timelin short strategi must place climat chang confer pari decemb ableg semst', 'excit meaning climat chang action way abpoli ghg semst', 'deliv good job albertan maintain stabl economi meet climat chang strategi good goal abpoli ghg semst', 'davidswann say want carbon fund spent public transport renew energi ejliv ableg semst', 'question lancetgh report asklancet tweet chat happen actonclim climatehealth semst', 'work elect climat friendli govern across north america feelthebern ndp lpc gpc bq harperpac ca semst', 'chrisleinberg chang drivabl walkabl benefit apan semst', 'amaz ess panel gkremen suffolkbuild maxfieldweiss oakland prepar protect bayarea region semst', 'climat chang peopl disgust asshol money transfer scheme elit may rot semst', 'srsli weird wear sunscreen morn dogwalk get tan wtf semst', 'rt greenlivinggb earthhour look like great event green way forward semst', 'use glacier equat semst', 'pathtoposit la region green leader unit find local solut lacityhal semst', 'monstermarcia kudo young peopl next gener activist onlyoneearth semst', 'macro problem face us peopl focu micro problem within immedi power fix semst', 'drought effect spread western noram bc gov destroy prime farmland enabl lng sitec bcpoli semst', 'regimechangebc ndnstyl sad last gener could chang noth auspol semst', 'netherland taught rest world import lesson semst', 'confess state world get late deathsincustodi everydayrac semst', 'go dutch new mean citizen take govern court make act climat promis hagu hope cop semst', 'thank greenpeacenz get yesterday highlight one import issu face semst', 'great hear dannyksfun kdeleon remind us divers need best innov ess americaknowshow semst', 'co impact warm logarithm current level ppm increment impact neglig ndp semst', 'new pahiatua plant go primarili coalfir larg compani like fonterra take lead semst', 'mission climat home buy drink water soda big bottl tip semst', 'remain doubt climat chang go watch chasingic netflix proceed shit pant semst', 'alharbif bomb anyth get hand especi christian graham gop semst', 'debunk climat myth fight sticki myth stickier fact mention myth explain fallaci semst', 'realli stand cathol church think crush popefr shhhh tell animalright semst', 'wait watch attenborough met obama fascin potu sirdavidattenborough lovemydavid hero semst', 'markruffalo flea kellyslat unfortun usa refus take serious damag respons savetheearth semst', 'peopl say intellect make great scientist wrong charact albert einstein semst', 'cbcnew nationalpost human mind incap deal experi semst', 'rt victoriaswatson whitehous potu wonder exchang two world greatest men realli touch semst', 'love pope care religion guy awesom semst', 'appropri watch futurama episod crime hot hottest weekend far summer futurama semst', 'talk rainforest world russia less import doctorcarbon advoc sustain semst', 'lot damag done everi day go win yrcann canneslion semst', 'u coal dead al gore cann lion canneslion semst', 'worldfarmersorg congress bartolinimatteo dutch way reduc greenhous gass agricultur excel exampl combat semst', 'rt transitionlouth bp plc need degrowth stop destroy planet bp semst', 'parvasaeua worri real enemi obama semst', 'take stand preserv tradit sea level semst', 'big decayeah happi smackoff eichelday anthonysalerno eagthedeuc valkilm bust semst', 'envreddit surpris blindspot idea take holist approach circulareconomi semst', 'break ocean wave broke inch beach normal semst', 'rain next day would driest june santiago de chile morden histori semst', 'senwhitehous dr david legat univers delawar explain higher temperatur lead higher level co semst', 'polit religion race busi kill hurt earth dri die anyway drought semst', 'shalyn religion race alreadi disproven reason scienc wonder polit drought semst', 'great week social issu scotu let get work environ semst', 'islamist kill franc tunisia syria let rememb greatest threat hoax formerli known semst', 'christian without beach god go make sand peopl risingsealevel semst', 'jimrom daytripp yea yea yea yea smackoff valkilm seeingwond bumsmack semst', 'want guy make climat chang denier marriag illeg marriageequail idea semst', 'serious mani time republican wrong aca lgbtright governmentshutdown autobailout stimulusspend semst', 'dear seattleweath pleas stay exactli right thismorn okaythanksby semst', 'ncregist peaceischrist diocesefwsb catholicvot unless semst', 'jimrom think k got grip romey smackoff valkilm seeingwond semst', 'best call still alway matt cleveland kirstiealli valkilm semst', 'flyingfre wow certainli extrem prognost gop libertarian semst', 'let stop say peopl believ climat chang matter faith understand semst', 'word sent climateconfer gmail com sustain sustainabledevelop semst', 'l well think peopl karachi r die care environ semst', 'noth done semst', 'warm soon number gov want money back panel missel minut dodgydata drtker semst', 'news flash hater earth round lovewin scotu semst', 'lstygal plenti follow environ greenvegan plug semst', 'eat cow x wors eat chicken term co emiss semst', 'last tree cut last fish eaten last stream poison realiz cannot eat money semst', 'australia lead way backward marriageequail auspol semst', 'climatecentr christinemiln peopl r guilt free semst', 'america chang faster like speed light confederatetakedown lovewin semst', 'climat chang explain definit climat chang fraud ccot liberti cruzcrew semst', 'washingtonpost one insan delusion quot ever seen tcot tlot semst', 'got canvass hope join support vpirg summer solar peoplepow semst', 'u think gop posit marriageequ equalpay gun marijuana surpris believ semst', 'annbritton nicolleflint guinnipig time prove right diseas drought obes semst', 'last time check al gore politician scientist wc semst', 'default scientif posit skeptic tcot semst', 'one day clear someon chang opinion due one tweet hold breath semst', 'btw barackobama potu seem though lose fight semst', 'consid move yo antarctica that way could possibl becom chill semst', 'ff yebsano alex verbeek aboutrenergi climateth recycl print work green energi futur semst', 'ff carbontaxcent protectheplanet wcsmyanmar climatewis pragmactivist work green energi futur semst', 'republican primari debat topic wore better lovewin marriageequail obamacar semst', 'mission climat home wrap water heater insul blanket tip actonclim semst', 'cschultzwx ton lightn everi day past week lolz semst', 'droakley phxapologet mayb misus resourc societi collaps deforest semst', 'logixliv lawn burnt two day rain yeg semst', 'hotter oregon california right semst', 'neg time neg equal posit wonder appli emot manthought sustainablehuman semst', 'karachiheatwav death toll climb death day carbonemiss semst', 'theresa beh happi tell gop wise semst', 'hell feel fieri tip insidi flame swiftli saunter room mayb ac semst', 'captainplanet movi rt u want one environ planet earth semst', 'billmoyershq congratul dutch good work chang semst', 'sunni raini bipolar weather wow real quick nigga semst', 'msimir say children women elderli peopl especi risk health impact climatereport semst', 'notabarrist scrufflov pfft get next week standard semst', 'observ atmospher ocean reflect human influenc climat chang via dr dimitra founda rengreec semst', 'mission climat home opt reusabl bag instead plastic bag gaiam tip actonclim semst', 'irish good grief feel desper seep page good got em rope semst', 'rt zerofootprint rt climater climatefact india may stand lose annual gdp due semst', 'v queennoor v guardian biggest stori world podcast whitehous algor thehil gop stupid ignor semst', 'fact clear number day climat chang human fault face extinct semst', 'aman pasha higher sea level temperatur glacial retreat warmer ocean extrem weather event plenti evid semst', 'ozon scienc ignor dad jebbush would dire strait right could thank us semst', 'work artist cultur key weav effort grassroot semst', 'brasfildtsb hit nail head hope edg paradigm shift semst', 'ocean acidif import scientif crisi face today donna robert cambioclimatico semst', 'today june th degre wtf takem thecarribean anywhereneartheequ semst', 'amount hot take come lovewin singl signific caus thanksobama semst', 'c increas expect speci risk extinct rosina bierbaum cambioclimtico semst', 'mercianrockyrex suspect danhannanmep may well prefer stick erm principl one semst', 'putin chap must extrem confus stuck old ideolog regard peac semst', 'like learn depth nutrit health tedtalk netflixuk diseas westerndiet health agricultur semst', 'oh lord hot humid day u stop cut tree cut ur emiss world savetheworld semst', 'u know th scotu decid coal plant keep emit unlimit mercuri r atmospher potu gop justic semst', 'hmmm next bucketlist wonder peac democrat manner peac democraci goal semst', 'breez catch lakefront die heat stroke well heatstrok semst', 'fossil fuel divest necessarili stop climat chang step right direct keepitintheground semst', 'govern trust listen narr never enough let see proof semst', 'speakerboehn jebbush tedcruz denial river egypt gop strategi racism semst', 'thx susanbowenphoto omaniblog fun home counti back later summer castellscarmen catch semst', 'loud ass thunder three second rain thanksobama semst', 'wear sweater summer semst', 'watch ideolog capit work like watch train wreck progress democraci goal futur semst', 'technolog sign far come ideolog capit sign far go methodolog semst', 'democrat dip deeper water regard dion peac democraci goal futur semst', 'millenni come apocalypt thank breeder overpopul semst', 'chang planet place climat chang take toll semst', 'thank follow help us rais awar humanright soseurop prisonersofconsci tortur semst', 'blow ac top middl night oregon semst', 'great challeng leadershhip globslopportun search synerget effort w fellow get engag semst', 'seattl degre tri sleep industri fan sound like chopper circl hous heatwav semst', 'un yet anoth pray way day onlin import know regard dion peac futur semst', 'first listen convict next action dali lama glasto semst', 'brilliant talk georgemonbiot dali lama guardian divest key action glasto semst', 'burnin babi u hangin hanginpl semst', 'rt varunkr pleas save tree surviv fight saveourplanet semst', 'pope swear tempt wayward ass back church love justic semst', 'mission climat road give car break epa tip semst', 'rain im sure wi suddenli get warm right semst', 'say touch wood say tomorrow democrat back way peac realli gone democraci semst', 'wear sweater end june itfeelslikespr semst', 'blisstabitha sure eco friendli pope rememb turn light way lastpop popeforplanet semst', 'spacex look like major litterbug clean debri litter hi way space x semst', 'realdonaldtrump smart donald semst', 'mission climat home move thermostat c winter c summer tip doyourpart semst', 'rileyrod yet jame inhof tell us global warm real semst', 'quinn thank follow check ccl solut solut citizensclimatelobbi semst', 'republican parti go histori book parti stood way gayright initi revers semst', 'bought media advertis earn media socialmedia real caus botfollow environ crueltyfre semst', 'carol holman heifer alway said democrat would tax weather could semst', 'chelseamagop perfect among us encycl semst', 'inch rain day next day rain temperatur reach c ahmedabad environ semst', 'ga aiw support strong compass global climat agreement pass uuaga semst', 'last thing australia world need vast earth destroy coal mine let get real fight auspol semst', 'barack obama meet david attenborough readi cannot wait year old alway form legend semst', 'enjoy watch sir david attenborough obama talk climat chang mitig lovenatur semst', 'attenborough real problem global e us semst', 'planet live one got got protect obama attenborough semst', 'natur world part inherit protect sir attenboroug potu bbc earth semst', 'amaz interview potu david attenborough semst', 'vatican destroy vile creatur ever creator islam sodomis children fakestin semst', 'thewest com au pammieoz way behind everybodi everyth gaymarriag asylumseek semst', 'regard dion peac includ futur clearli known finiteinnatureplanet outta gone semst', 'oh watch news greec current rel peac gm democraci goal semst', 'tonyabbottmhr still boast intern stage remov price carbon refer toxic tax auspol semst', 'support australia climat roundtabl provid framework sensibl debat ahead pari cop semst', 'say climat chang myth may want becom fantasi author sinc alreadi live altern realiti semst', 'rt abhinav khanal peopl dead pakistan due heatwav semst', 'glad million live improv week let set sight help million immigrationact semst', 'point renam summer raini season cdnpoli semst', 'barackobama use jet fuel earthday trip florida ye mao potu fail semst', 'honestli understand like california much bad heat semst', 'inland cal hot humid day seem summer muggi strang semst', 'build renov turn mm mmm time busi money wallstreet enterpris entrepreneur engin semst', 'mission climat home purchas green power avail epa tip semst', 'annapurnavancheswaran say took year cut bureaucraci speak indian govern pivot semst', 'dutch court rule gov must cut emiss human right law interest climatejustic semst', 'good luck solarimpuls flight andreborschberg solar solarimpuls actonclim semst', 'popul growth problem human treat earth like shit govegan environ semst', 'kca votejkt id engiegroup engi new cop solut semst', 'two side discuss stopmotionsolo semst', 'john watterson attend ippc meet help shape futur intern greenhous ga emiss estim method semst', 'davidattenborough meet barackobama tvnzone interview life effect semst', 'abcnew afterward call tonyabbottmhr advis need act auspol semst', 'popupincub innov super convert fish boat w use fossil fuel look fund scheme semst', 'qt barackobama much patienc anyon deni challeng real semst', 'sa play instrument role ralli basic countri strengthen south south cooper matter around semst', 'cathol follow god word pope rambl semst', 'dalla still hit year semst', 'ppl think paul spoke god denounc gay also think current pope speak god semst', 'anyon els agre switch concret new snazzi self lit road netherland electricitysav autobahn semst', 'eye china report climatenexu plan build agreement us emiss expect soon cop ghg semst', 'read whale supercomput northern front climat chang charl wohlforth arctic semst', 'mission climat home wash laundri cold water etpowerlin tip doyourpart semst', 'today kingdom bahrain particip high level event climat chang un un semst', 'presid tong tell stori vulner resili kiribati maldiv low lie state sid action semst', 'monsignor sanchez sorondo earth sick need heal semst', 'need work confid transpar guid consensu manupulgarvid un pga event action semst', 'road pari adp co chair new tool present juli th manupulgarvid un pga event semst', 'equiti financi solidar transpar text need say fabiu un ga semst', 'build thorium lftr degre summer myacsuck semst', 'stake surviv next gener indigen peopl youth unga action cop semst', 'stress water resourc threaten live livelihood anthropoceneag sustain semst', 'minist manupulgarvid import indc build momentum pari press confer un semst', 'pope upset via huffpostcomedi unzippedtruth popefr semst', 'janezpotocnik eu spend billion collect environment tax fossil fuel subsidi almedalen semst', 'day know implement year ago simpli walk away know regard dion peac democraci goal semst', 'scotu need forc power plant cut emiss mercuri air pollut asap potu epa justic semst', 'rule scotu major setback epa environ dirtyco semst', 'nzstuffbusi time chang govern frack c methan pollut cancer health earthquak water leak semst', 'sebamm seb prtner explain work ipcc semst', 'suzyji climatedepot great news arrest regulatori agenc flagrant reach pathet littl epa know semst', 'liter sens global warm semst', 'stingo weather pattern evolv differ last year semst', 'coldest wettest summer memori mosquito mowtwiceaweek brrrr semst', 'pope franci realli makin round popefr semst', 'bendicoot shit set suprem court evil semst', 'ballot paper post timfarron vote leader liber voic heard humanrightsact affordableh semst', 'think turn central heat semst', 'like felt voiceless listen timfarron libdemfightback fight humanrightsact affordableh semst', 'engag mom mean vote climat support candid plan act playin climat semst', 'could someth question say paulrehrlich sustain semst', 'degre celciu mendoza argentina begin winter mendoza semst', 'simpli rain houston anymor storm semst', 'care globe warm want stop irrepar harm fuckpolit sciencerul semst', 'world futur council man fsd point absurd cost benefit analysi discount futur live sustain semst', 'last thursday lake mead largest u reservoir lowest water level report sinc historyinthemak semst', 'see environment deterior human ethic degrad close link laudatosi environ semst', 'mission climat home defrost old fridg freezer regularli tip loveourplanet semst', 'obamacar doctor warn global warmin cud make patient health wors obama presidentobama whitehous semst', 'china plan work thing today rude euchina semst', 'went run feel leg brain feel like boil semst', 'disappoint base decis real planet man made currenc system scotu epa semst', 'askrobertredford beyond nation level done individu level mitig effect semst', 'dalydegagn redmitten canada alon need invest billion year paid effici cdnpoli environ semst', 'cop succeed fail humankind want surviv someth must done natur human simpl semst', 'ecowatch robertredford pope say time greennh readi roll want machin holdup pollut semst', 'sir david attenborough barackobama dissguss planet futur room get better semst', 'rbjron fedupofpolli jolli la worri state go leav australia nbn fraudband refuge semst', 'need separ natur disast man made disast emphasis pollut pay need loss damag tuvalupm semst', 'un crew trashi tosser semst', 'eilonwya item need come back semst', 'rosalind peterson address un aerosol spray chemtrail affect agricultur notadeb geoengin semst', 'icicl ok yeah bad vancouv liter never use get hot laudatosi semst', 'feel like scotu got right right right wrong sigh climatedeni semst', 'northwest heatwav continu first time ever tomato plant fruit june oregon organ semst', 'good news scotu confirm un zero author u properti enforc care elit say cop semst', 'robsilv chanc irbrodi kyoto cpc cdnpoli semst', 'heidtjj djrmewziqu mikeh marklindesr fatherjonathan think found someth danger america semst', 'everi human commit origin sin first outbreath co mankind fallen bibl semst', 'repent emiss co end hell bibl semst', 'onan cast co atmospher commit sin emiss bibl semst', 'world emit co water vapour built atmospher caus lord send flood retribut bibl semst', 'mission climat home pass magazin friend hospit librari nurs home gaiam tip semst', 'lancet climatehealth report say need ambiti programm like marshal plan apollo mission tackl climat chang semst', 'naughtybeyotch psychic huh semst', 'night like fond long hair wanna chop heatwav pnwgirl semst', 'dinosaur asteroid earth extinct semst', 'mission climat road drive less greengoddess tip impactisr semst', 'look hashtag ukclim news today uk reduc emiss adapt semst', 'pupil p lincluden primari particip carbon buster project learningforsustain semst', 'around new home built everi year england area high risk flood ad risk ukclim semst', 'top approach solut global govern must act togeth global commun semst', 'australia turn watch obama attenborough abcenviron semst', 'tonyabbott hope watch presid obama talk semst', 'greatbarrierreef look compar dive year ago potu attenborough foreignoffici semst', 'mindblow watch sirdavidattenborough semst', 'david attenborough interview presid obama brilliant fascin view foreigncorrespond abc tunein semst', 'mission climat home simplifi bezerowast tip doyourpart semst', 'clean technolog moment innov technolog davidattenboroughismyhero semst', 'attenborough state media need promot damag climat chang bout bolt foreigncorrespond semst', 'water temperatur atlant coast june like proverbi frog boil water climat semst', 'greatman barackobama met greatman david attenborough chang seem possibl attain listen attenborobama semst', 'obama attenborough brilliant heart felt honest discuss oz renew abc auspol semst', 'scari stat day area urban greenspac england lost sinc thecccuk semst', 'young peopl climat chang changeagentsa gen earth ellabellac missearth sa youth semst', 'metacept jmgameroru gut miss would love hear talk africa repres semst', 'everywher look moder weather seem go extinct robertredford un semst', 'rupertmurdoch feel bin one upload newer mix day see version like better peac semst', 'ginaepa ye silica dust emiss littl done state level effect semst', 'toler wonder much mother earth methodolog level capitalist ideolog semst', 'mexonu greenclimatefund project must long last lay groundwork low carbon develop econom model semst', 'justintrudeau rethinkfus terrybeech adamjpankratz jonathanwnv engineeringinnov futur green tech deal semst', 'sick celebr think well known actor make author anyth els robertredford un semst', 'man cannot chang climat countri add new element soil charl darwin anthropocen semst', 'redscarebot simpl malarkey rt gingerdr global warm climat chang hoax communist agenda control sustainabil semst', 'artic ice highest year month june yet headlin scam semst', 'never better time get heck california vaccin scienc gmo bee autism gmo sb semst', 'note climatologist marin biologist oceanograph ted danson told us yr ago ocean would dead yr semst', 'bet speci man fart today due soda carbon beverag fast food record era semst', 'gener rule mandatori thing kind refus vaccin gmo scienc bee fit sb nutrit semst', 'deanleh earthguardianz excel speech well done show ur video birdi readi part chang rise semst', 'jodybland real question feel safe drive priu harrison semst', 'transpregn transgend major reason scientist find cure cancer aid semst', 'heat kill wanna know poor polar bear go right semst', 'well dri know valu water ben franklin actonclim epa semst', 'yo live unit state right believ global climat chang fuck idiot fact semst', 'thank marclevin ilik mike support legisl semst', 'heatstrok sind rajasthan temperatur incresng frozen area earthquak rain shower reduc massiv climat chang semst', 'unfortun systemat destruct planet mere seen polit issu semst', 'peopl bar bitch heat drought one utter word fossilfuel caus elephantintheroom denial semst', 'fireuntildawn chriskkenni let guess lie rabid leftist warmist use twist fact agenda semst', 'heartlandinst french mean nation build tank rear view mirror six gear revers semst', 'dog pant beat music semst', 'high emiss scenario would disast marin life well dr williamson semst', 'lot thing need done first chang mindset watermanag semst', 'hot af seattl normal hotaf semst', 'osteomath capitalweath funni sudden refer weatherman climatechang weather semst', 'worri sediment core prove shellfish coral recov year oilandga rbe tvp semst', 'never outrag grate slight cool breez drift bodi futur nakedtim semst', 'hey dranthonylynham pleas reject adani carmichael coal mine abbot point reef climat risk gbr semst', 'tornado warn uk weekend govern still choos ignor global warm ukweath semst', 'mainaudeclar watch guy huge lindaunobel semst', 'mainaudeclar let push agenga worldwid without fear climatejustic semst', 'mainaudeclar year later lino laureat young scientist say time act semst', 'psaintaman well design tax polici help fix number environment issu itdconf cop semst', 'read scalia idiot opinion overturn epa carbon emiss limit plan spend day seeth rage semst', 'act anoth planet live cop semst', 'reinc gopclowncar shame gop consid hrc email disconcert job infrastructur educ semst', 'poison biospher cannot dealt free market econom taxwallstreet environ gmo semst', 'solarimpuls see pick rwi follow andr sign way round semst', 'everyon busi build bank account one day paper help massiv natur calam semst', 'u hold referendum prior pari talk gaug american support deal hope lead semst', 'audio world look new sheriff town audio music world entrepreneur love life semst', 'second heatwav hit na nw pop everywher flood record wildfir canada mess time semst', 'global warm global warm global warm oh wait summer semst', 'glblwarmingnew tooth fairi might caus kid lose teeth carbontaxscam chemtrail semst', 'tsgtalexand glblwarmingnew tooth fairi might caus kid lose teeth carbontaxscam chemtrail semst', 'brettgarrot brettgarrot glblwarmingnew tooth fairi might caus kid lose teeth carbontaxscam chemtrail semst', 'co becom danger pollut must curtail exhal iwantansw semst', 'grow veget home tell friend follow climat mychangeforclim semst', 'led light water save toilet showerhead applianc etc renov choos effici mychangeforclim semst', 'even algor democrat thought yet get bore easi polit hop hop regard peac gm semst', 'ther clmate chang alarmist come sept year tell hottest winter record ill go postal semst', 'creeclayton wonder find twitter meet masroora canadian work semst', 'potu defeat isi first must defeat semst', 'mission climat home reduc reus recycl replenish restor scrapcatalyt tip earthrightnow semst', 'without place feed mate give birth futur polar bear semst', 'bc continu burn wake call everyon noth vancouv bcwildfir semst', 'pittsburgh regatta without boat river full debri swift current danger semst', 'un declin crop yield develop countri rice wheat corn next year especi tropic semst', 'great meet balboalic ctwigg today discuss futur citi uk expertis share appli china semst', 'reptommarino prioriti address semst', 'rt mediarag one brilliant bs stori creat man subjug other leftistliesisb semst', 'need world econom power true climat chang fund world need action empti rhetor semst', 'cop un confer board room meet till shall continu innoc live livelihood lost semst', 'scorch summer uk end centuri thank rock suffer semst', 'tri creat world want live dalailama withcompass semst', 'sea level rise end centuri meter drown sf airport la port ivelicogna withcompass semst', 'climat chang emerg stop denial start take step climatehealth semst', 'rt fadoben rate utilis exce rate regener call degrad michachallen semst', 'climat chang solvabl problem need start today hhdl semst', 'dalailama suggest school politician educ critic issu withcompass hhdl semst', 'shalomshuli guess lot less humid back time mose semst', 'omin yellow vancouv sky make anyon els dread climat futur wildfir semst', 'caus effect dri condit wildfir prevent humancaus semst', 'savingmytomorrow hbo guy promot like crazi hbo semst', 'greenland ice melt faster summer dome high pressur semst', 'davidakin lraitt instal new forestfir navig system nokindermorgan notarsand cdnpoli semst', 'kyjl crazi oklahoma brace flood rain th cycl year canada burn semst', 'awkward moment pro coal pr campaign k follow advancedenergi greenwash semst', 'gonna side realli smart well educ folk one guy semst', 'climat chang financ cc adapt cc resili green economi lot semant commun waitforsolut semst', 'assaadrazzouk theearthnetwork wynnandreid usa behind due idioci semst', 'tonight academi scienc talk tech solut climat chang prof barri brook cantorandballtow canberra semst', 'revel erotao snow melt tcot semst', 'wsj imag like make fear next epidem must come soon overpopul semst', 'muskoka muskoka proud shoallak boilwat fortchip cancer vanuatu balafal landscapingissu semst', 'mntwin game go realli fast tonight proof semst', 'noel kck tomstey billny potu proof semst', 'porterthereport pleas let win loyal reader support semst', 'wish everyon pale season suntan babyoil thebachelorett semst', 'nation announc plan put fire pantri rest hous burn babi burn sameoldshit semst', 'rent theatr show movi chasingic friend famili spread messag global warm semst', 'rt easyprintitja rt firstkingtr freak rain kingston jamaica sudden skuii semst', 'stormiest ireland uk year say someth newsclim wattsupwiththat semst', 'liberalau wrong centuri ipccreport involv methodolog say regard dion peac ideolog semst', 'takedowntheflag lovewin repres tecton cultur shift thank small part twitter facebook imagin semst', 'expect new zealand call leader show leadership instead show weak mind ignor laggardship semst', 'reduct joke govt seem concern flag chang semst', 'newyork london frankfurt knee deep sea water noth happen unfccc cop co free parti annaborgeryd semst', 'climatpari climat scienc forum begin today follow progress cfcc sustainabledevelop semst', 'need integr scienc indigen knowledg understand adapt cfcc semst', 'whelan debat goe yet time wast thedrum semst', 'sea level get higher flood lowland could becom dire semst', 'anyth sad gener opportun act cfcc journey semst', 'vallaud belkacem gener knew would happen noth say wakeup cfcc semst', 'act gener knew move najatvb cfcc semst', 'carbon clock tick carbonbubbl surplusga carbon ga semst']\n"
          ]
        }
      ]
    },
    {
      "cell_type": "code",
      "metadata": {
        "colab": {
          "base_uri": "https://localhost:8080/"
        },
        "id": "r0Nlvm-Ep-YY",
        "outputId": "1bcb1bbd-be6f-452b-ff2e-b9bb6b759b76"
      },
      "source": [
        "len(cleaned_data)"
      ],
      "execution_count": null,
      "outputs": [
        {
          "output_type": "execute_result",
          "data": {
            "text/plain": [
              "564"
            ]
          },
          "metadata": {},
          "execution_count": 25
        }
      ]
    },
    {
      "cell_type": "code",
      "metadata": {
        "id": "v0i7KLqkqH2R"
      },
      "source": [
        "sentiment_ordering = ['AGAINST', 'NONE', 'FAVOR']\n",
        "y = y.apply(lambda x: sentiment_ordering.index(x))"
      ],
      "execution_count": null,
      "outputs": []
    },
    {
      "cell_type": "code",
      "metadata": {
        "colab": {
          "base_uri": "https://localhost:8080/"
        },
        "id": "cQW2n7e4u-TH",
        "outputId": "fa78299d-393c-4dc1-8c74-216eb7438c14"
      },
      "source": [
        "y"
      ],
      "execution_count": null,
      "outputs": [
        {
          "output_type": "execute_result",
          "data": {
            "text/plain": [
              "ID\n",
              "10221    1\n",
              "10222    2\n",
              "10223    2\n",
              "10224    1\n",
              "10225    2\n",
              "        ..\n",
              "1004     2\n",
              "1005     2\n",
              "1006     2\n",
              "1007     2\n",
              "1008     2\n",
              "Name: Stance, Length: 564, dtype: int64"
            ]
          },
          "metadata": {},
          "execution_count": 40
        }
      ]
    },
    {
      "cell_type": "code",
      "metadata": {
        "id": "qH00-clNvkuS"
      },
      "source": [
        "from sklearn.feature_extraction.text import CountVectorizer\n",
        "cv=CountVectorizer(max_features=3000)\n",
        "X_fin=cv.fit_transform(cleaned_data).toarray()"
      ],
      "execution_count": null,
      "outputs": []
    },
    {
      "cell_type": "code",
      "metadata": {
        "colab": {
          "base_uri": "https://localhost:8080/"
        },
        "id": "OcRYveynv-ox",
        "outputId": "74553362-2749-400a-e1b6-0cd778df3077"
      },
      "source": [
        "X_fin.shape"
      ],
      "execution_count": null,
      "outputs": [
        {
          "output_type": "execute_result",
          "data": {
            "text/plain": [
              "(564, 2516)"
            ]
          },
          "metadata": {},
          "execution_count": 44
        }
      ]
    },
    {
      "cell_type": "code",
      "metadata": {
        "id": "22iM1p54q-rW"
      },
      "source": [
        "from sklearn.naive_bayes import MultinomialNB\n",
        "model=MultinomialNB()"
      ],
      "execution_count": null,
      "outputs": []
    },
    {
      "cell_type": "code",
      "metadata": {
        "colab": {
          "base_uri": "https://localhost:8080/"
        },
        "id": "M-XAAM1Bq_Xj",
        "outputId": "5e4fd15f-2845-400b-d1af-3dd5850607ac"
      },
      "source": [
        "from sklearn.model_selection import train_test_split\n",
        "X_train,X_test,y_train,y_test=train_test_split(X_fin,y,test_size=0.3)\n",
        "model.fit(X_train,y_train)"
      ],
      "execution_count": null,
      "outputs": [
        {
          "output_type": "execute_result",
          "data": {
            "text/plain": [
              "MultinomialNB()"
            ]
          },
          "metadata": {},
          "execution_count": 46
        }
      ]
    },
    {
      "cell_type": "code",
      "metadata": {
        "id": "rayLOND3rPY3"
      },
      "source": [
        "y_pred = model.predict(X_test)"
      ],
      "execution_count": null,
      "outputs": []
    },
    {
      "cell_type": "code",
      "metadata": {
        "colab": {
          "base_uri": "https://localhost:8080/"
        },
        "id": "ffKLPy3nwazB",
        "outputId": "665f2b0f-fa1e-4b3b-f85f-1a0ba3fc2c79"
      },
      "source": [
        "from sklearn.metrics import classification_report\n",
        "cf=classification_report(y_test,y_pred)\n",
        "print(cf)"
      ],
      "execution_count": null,
      "outputs": [
        {
          "output_type": "stream",
          "name": "stdout",
          "text": [
            "              precision    recall  f1-score   support\n",
            "\n",
            "           0       1.00      0.17      0.29         6\n",
            "           1       0.74      0.59      0.66        59\n",
            "           2       0.76      0.89      0.82       105\n",
            "\n",
            "    accuracy                           0.76       170\n",
            "   macro avg       0.84      0.55      0.59       170\n",
            "weighted avg       0.76      0.76      0.75       170\n",
            "\n"
          ]
        }
      ]
    },
    {
      "cell_type": "code",
      "metadata": {
        "id": "HLjXbBdJwg7s"
      },
      "source": [
        ""
      ],
      "execution_count": null,
      "outputs": []
    }
  ]
}